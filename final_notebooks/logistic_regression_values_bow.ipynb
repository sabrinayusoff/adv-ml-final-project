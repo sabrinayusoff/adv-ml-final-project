{
  "cells": [
    {
      "cell_type": "markdown",
      "metadata": {
        "id": "gqeMw03VuL2A"
      },
      "source": [
        "# Predicting Value of a Jeopardy! Question using Logistic Regression"
      ]
    },
    {
      "cell_type": "code",
      "source": [
        "!pip install portalocker"
      ],
      "metadata": {
        "colab": {
          "base_uri": "https://localhost:8080/"
        },
        "id": "JzkQTjmkvNFN",
        "outputId": "bfda3e9b-b10c-4e9b-ad32-7f714f575d69"
      },
      "execution_count": 1,
      "outputs": [
        {
          "output_type": "stream",
          "name": "stdout",
          "text": [
            "Looking in indexes: https://pypi.org/simple, https://us-python.pkg.dev/colab-wheels/public/simple/\n",
            "Collecting portalocker\n",
            "  Downloading portalocker-2.7.0-py2.py3-none-any.whl (15 kB)\n",
            "Installing collected packages: portalocker\n",
            "Successfully installed portalocker-2.7.0\n"
          ]
        }
      ]
    },
    {
      "cell_type": "code",
      "execution_count": 2,
      "metadata": {
        "id": "5JC22yGGuL2C"
      },
      "outputs": [],
      "source": [
        "import torch\n",
        "import torchtext\n",
        "import torchdata\n",
        "import portalocker\n",
        "import json"
      ]
    },
    {
      "cell_type": "code",
      "source": [
        "from torch import cuda\n",
        "device = 'cuda' if cuda.is_available() else 'cpu'\n",
        "device\n",
        "\n",
        "from google.colab import drive \n",
        "drive.mount('/content/gdrive')"
      ],
      "metadata": {
        "colab": {
          "base_uri": "https://localhost:8080/"
        },
        "id": "iVLf37KzvJ5u",
        "outputId": "70c334d9-2e46-4c31-c4d8-dbdf08d353ff"
      },
      "execution_count": 3,
      "outputs": [
        {
          "output_type": "stream",
          "name": "stdout",
          "text": [
            "Mounted at /content/gdrive\n"
          ]
        }
      ]
    },
    {
      "cell_type": "code",
      "execution_count": 4,
      "metadata": {
        "id": "hbjALEhTuL2D"
      },
      "outputs": [],
      "source": [
        "filename = 'gdrive/MyDrive/Colab Notebooks/jeopardy_json.json'\n",
        "\n",
        "with open(filename, 'r', encoding='iso-8859-1') as f:\n",
        "    data = json.load(f)"
      ]
    },
    {
      "cell_type": "code",
      "execution_count": 5,
      "metadata": {
        "colab": {
          "base_uri": "https://localhost:8080/"
        },
        "id": "mnnjXShluL2D",
        "outputId": "ae9e82c6-f46e-4881-ad72-7a515373c9fd"
      },
      "outputs": [
        {
          "output_type": "stream",
          "name": "stdout",
          "text": [
            "150\n"
          ]
        }
      ],
      "source": [
        "values = []\n",
        "for row in data:\n",
        "    values.append(row['value'])\n",
        "\n",
        "print(len(set(values)))"
      ]
    },
    {
      "cell_type": "code",
      "execution_count": 6,
      "metadata": {
        "colab": {
          "base_uri": "https://localhost:8080/"
        },
        "id": "6usQpxbguL2E",
        "outputId": "1b3e7f6c-9525-4a0b-ba39-cd4d949f266e"
      },
      "outputs": [
        {
          "output_type": "execute_result",
          "data": {
            "text/plain": [
              "150"
            ]
          },
          "metadata": {},
          "execution_count": 6
        }
      ],
      "source": [
        "def create_value_labels(data):\n",
        "    values_dict = {}\n",
        "    idxs = list(range(1, 501))\n",
        "    for row in data:\n",
        "        cat = row['value']\n",
        "        if cat not in values_dict:\n",
        "            values_dict[cat] = idxs.pop(0)\n",
        "\n",
        "    return values_dict\n",
        "\n",
        "values_dict = create_value_labels(data)\n",
        "len(values_dict)"
      ]
    },
    {
      "cell_type": "code",
      "execution_count": 7,
      "metadata": {
        "colab": {
          "base_uri": "https://localhost:8080/"
        },
        "id": "HTDoxKyXuL2F",
        "outputId": "a04a45e5-94a8-4064-cccc-928984132f86"
      },
      "outputs": [
        {
          "output_type": "stream",
          "name": "stdout",
          "text": [
            "(1, 'For the last 8 years of his life, Galileo was under house arrest for espousing this mans theory')\n"
          ]
        }
      ],
      "source": [
        "examples_rounds = []\n",
        "examples_categories = []\n",
        "examples_adam = []\n",
        "\n",
        "def create_label_text_pairs(train_data):\n",
        "    for row in train_data:\n",
        "        if row['round'] == 'Jeopardy!':\n",
        "            round_label = 1\n",
        "        elif row['round'] == 'Double Jeopardy!':\n",
        "            round_label = 2\n",
        "        elif row['round'] == 'Final Jeopardy!':\n",
        "            round_label = 3\n",
        "        elif row['round'] == 'Tiebreaker':\n",
        "            round_label = 4\n",
        "        row_qn = row['question'].replace(\"'\", \"\")\n",
        "        examples_rounds.append((round_label, row_qn))\n",
        "        examples_categories.append((row['category'], row_qn))\n",
        "\n",
        "        value_label = values_dict[row['value']]\n",
        "        examples_adam.append((value_label, row_qn))\n",
        "    return examples_rounds, examples_categories, examples_adam\n",
        "\n",
        "examples_rounds, examples_categories, examples_values = create_label_text_pairs(data)\n",
        "examples_values_iter = iter(examples_values)\n",
        "\n",
        "print(next(examples_values_iter))"
      ]
    },
    {
      "cell_type": "code",
      "execution_count": 8,
      "metadata": {
        "id": "vWMVNEcQuL2F"
      },
      "outputs": [],
      "source": [
        "from torchtext.data.utils import get_tokenizer\n",
        "from torchtext.vocab import build_vocab_from_iterator\n",
        "\n",
        "tokenizer = get_tokenizer('basic_english')\n",
        "\n",
        "def yield_tokens(train_iter):\n",
        "    for _, text in train_iter:\n",
        "        yield tokenizer(text)"
      ]
    },
    {
      "cell_type": "code",
      "execution_count": 9,
      "metadata": {
        "id": "kH2fLOO9uL2F"
      },
      "outputs": [],
      "source": [
        "vocab = build_vocab_from_iterator(\n",
        "    yield_tokens(examples_values_iter), specials=[\"<unk>\"], min_freq=1000)\n",
        "unk_idx = vocab[\"<unk>\"]\n",
        "vocab.set_default_index(unk_idx)"
      ]
    },
    {
      "cell_type": "code",
      "execution_count": 10,
      "metadata": {
        "colab": {
          "base_uri": "https://localhost:8080/"
        },
        "id": "C16i5N8UuL2F",
        "outputId": "88d6a83f-e697-47ac-a016-a610b7c05a27"
      },
      "outputs": [
        {
          "output_type": "stream",
          "name": "stdout",
          "text": [
            "tensor([0, 1, 3, 2, 2]) tensor([[0., 0., 0.,  ..., 0., 0., 0.],\n",
            "        [0., 0., 0.,  ..., 0., 0., 0.],\n",
            "        [0., 0., 0.,  ..., 0., 0., 0.],\n",
            "        [0., 0., 0.,  ..., 0., 0., 0.],\n",
            "        [0., 0., 0.,  ..., 0., 0., 0.]])\n",
            "Test passed.\n"
          ]
        }
      ],
      "source": [
        "from torch.utils.data import DataLoader\n",
        "\n",
        "def collate_into_bow(batch):\n",
        "    labels = []\n",
        "    bow_vectors = []\n",
        "    for label, text in batch:\n",
        "        labels.append(label-1)\n",
        "        bow_vector = [0.0] * len(vocab)\n",
        "        tokens = tokenizer(text)\n",
        "        for t in tokens:\n",
        "            t_idx = vocab[t]\n",
        "            bow_vector[t_idx] += 1\n",
        "        bow_vector = [x / len(tokens) for x in bow_vector]\n",
        "        bow_vectors.append(bow_vector)\n",
        "    result = (torch.tensor(labels), torch.tensor(bow_vectors))\n",
        "\n",
        "    return result\n",
        "\n",
        "\n",
        "def test_collate():\n",
        "    w1 = vocab.lookup_token(3)\n",
        "    w2 = vocab.lookup_token(7)\n",
        "    w3 = vocab.lookup_token(8)\n",
        "    w4 = vocab.lookup_token(9)\n",
        "    examples = [\n",
        "        (1, \" \".join([w1, w2, w3, w4])),\n",
        "        (2, \" \".join([w2, w1, w3, w4])),\n",
        "        (4, \" \".join([w4, w2, w3, w4])),\n",
        "        (3, \" \".join([w2, w2, w2, w4])),\n",
        "        (3, \" \".join([w1, w2])),\n",
        "\n",
        "    ]\n",
        "    bowt = torch.tensor(\n",
        "        [\n",
        "            [0.0, 0.0, 0.0, 0.25, 0.0, 0.0, 0.0, 0.25, 0.25, 0.25],\n",
        "            [0.0, 0.0, 0.0, 0.25, 0.0, 0.0, 0.0, 0.25, 0.25, 0.25],\n",
        "            [0.0, 0.0, 0.0, 0.0, 0.0, 0.0, 0.0, 0.25, 0.25, 0.50],\n",
        "            [0.0, 0.0, 0.0, 0.0, 0.0, 0.0, 0.0, 0.75, 0.0, 0.25],\n",
        "            [0.0, 0.0, 0.0, 0.5, 0.0, 0.0, 0.0, 0.5, 0.0, 0.00],\n",
        "\n",
        "        ]) \n",
        "    lt, tt = collate_into_bow(examples)\n",
        "    assert lt.shape == torch.Size([5])\n",
        "    assert tt.shape == torch.Size([5, len(vocab)])\n",
        "    print(lt, tt)\n",
        "    assert torch.equal(lt, torch.tensor([0, 1, 3, 2, 2]))\n",
        "    assert torch.equal(tt[:,:10], bowt)\n",
        "    assert tt[:,10:].sum().item() == 0.00\n",
        "    print('Test passed.')\n",
        "    \n",
        "test_collate()"
      ]
    },
    {
      "cell_type": "markdown",
      "metadata": {
        "id": "gc7D98X3uL2G"
      },
      "source": [
        "### BOW Classifier"
      ]
    },
    {
      "cell_type": "code",
      "execution_count": 11,
      "metadata": {
        "id": "lSGwl8F-uL2G"
      },
      "outputs": [],
      "source": [
        "from torch import nn\n",
        "import torch.nn.functional as F\n",
        "\n",
        "class BoWClassifier(nn.Module):\n",
        "    def __init__(self, num_labels, vocab_size):\n",
        "        super(BoWClassifier, self).__init__()\n",
        "        self.linear = nn.Linear(vocab_size, num_labels)\n",
        "    \n",
        "    def forward(self, bow_vec):\n",
        "        return F.log_softmax(self.linear(bow_vec), dim=1)"
      ]
    },
    {
      "cell_type": "markdown",
      "metadata": {
        "id": "NTjgtQTWuL2G"
      },
      "source": [
        "# Predicting Value"
      ]
    },
    {
      "cell_type": "code",
      "execution_count": 12,
      "metadata": {
        "id": "KLKKuVHguL2G"
      },
      "outputs": [],
      "source": [
        "import time\n",
        "\n",
        "loss_function = torch.nn.NLLLoss()\n",
        "\n",
        "def train_an_epoch(dataloader, optimizer):\n",
        "    model_values.train() # Sets the module in training mode.\n",
        "    log_interval = 500\n",
        "\n",
        "    for idx, (label, text) in enumerate(dataloader):\n",
        "        model_values.zero_grad()\n",
        "        log_probs = model_values(text) # forward pass\n",
        "        loss = loss_function(log_probs, label)\n",
        "        loss.backward()\n",
        "        optimizer.step()\n",
        "        if idx % log_interval == 0 and idx > 0:\n",
        "            print(f'At iteration {idx} the loss is {loss:.3f}.')\n"
      ]
    },
    {
      "cell_type": "code",
      "execution_count": 13,
      "metadata": {
        "id": "MiTrl-N7uL2G"
      },
      "outputs": [],
      "source": [
        "\n",
        "def get_accuracy(dataloader):\n",
        "    model_values.eval() # switch to indicate that the model is not in training mode\n",
        "    with torch.no_grad(): # disables gradient calculation (for when you are sure you will not call Tensor.backward()). This will reduce memory consumption.\n",
        "        total_examples = 0\n",
        "        correct = 0\n",
        "        for labels, text in dataloader: # for each batch in dataloader\n",
        "            total_examples += text.shape[0]\n",
        "            probs = model_values(text)\n",
        "            preds = probs.argmax(1)\n",
        "            correct += (torch.eq(preds, labels)).sum().item()\n",
        "        overall_accuracy = correct / total_examples\n",
        "        return overall_accuracy"
      ]
    },
    {
      "cell_type": "code",
      "execution_count": 14,
      "metadata": {
        "id": "Xnv1Vh__uL2H"
      },
      "outputs": [],
      "source": [
        "from torch.utils.data.dataset import random_split\n",
        "\n",
        "BATCH_SIZE = 64 # batch size for training\n",
        "\n",
        "examples_rounds, examples_categories, examples_values = create_label_text_pairs(data)\n",
        "\n",
        "train_size = int(0.8*len(examples_values))\n",
        "val_size = int(0.1*len(examples_values))\n",
        "test_size = int(0.1*len(examples_values))\n",
        "\n",
        "train_data = examples_values[:train_size]\n",
        "valid_data = examples_values[train_size:train_size+val_size]\n",
        "test_data = examples_values[val_size:train_size+val_size+test_size]\n",
        "\n",
        "train_dataloader = DataLoader(train_data, batch_size=BATCH_SIZE,\n",
        "                              shuffle=True, \n",
        "                              collate_fn=collate_into_bow)\n",
        "valid_dataloader = DataLoader(valid_data, batch_size=BATCH_SIZE,\n",
        "                              shuffle=False, \n",
        "                              collate_fn=collate_into_bow)\n",
        "test_dataloader = DataLoader(test_data, batch_size=BATCH_SIZE,\n",
        "                             shuffle=False, \n",
        "                             collate_fn=collate_into_bow)"
      ]
    },
    {
      "cell_type": "code",
      "execution_count": 15,
      "metadata": {
        "id": "GWd1Yj3DuL2H"
      },
      "outputs": [],
      "source": [
        "num_labels = len(set([label for (label, text) in train_data]))\n",
        "vocab_size = len(vocab)\n",
        "model_values = BoWClassifier(num_labels, vocab_size)"
      ]
    },
    {
      "cell_type": "code",
      "execution_count": 16,
      "metadata": {
        "colab": {
          "base_uri": "https://localhost:8080/",
          "height": 1000
        },
        "id": "y05n-E5fuL2H",
        "outputId": "7fa7bbb5-eec9-4568-f9e4-4701773c26a2"
      },
      "outputs": [
        {
          "output_type": "stream",
          "name": "stdout",
          "text": [
            "At iteration 500 the loss is 2.334.\n",
            "At iteration 1000 the loss is 2.603.\n",
            "At iteration 1500 the loss is 2.534.\n",
            "At iteration 2000 the loss is 2.418.\n",
            "At iteration 2500 the loss is 2.471.\n",
            "At iteration 3000 the loss is 2.684.\n",
            "At iteration 3500 the loss is 2.628.\n",
            "At iteration 4000 the loss is 2.415.\n",
            "At iteration 4500 the loss is 2.379.\n",
            "At iteration 5000 the loss is 2.766.\n",
            "\n",
            "After epoch 1 the validation accuracy is 0.102.\n",
            "\n",
            "At iteration 500 the loss is 2.537.\n",
            "At iteration 1000 the loss is 2.366.\n",
            "At iteration 1500 the loss is 2.350.\n",
            "At iteration 2000 the loss is 2.245.\n",
            "At iteration 2500 the loss is 2.378.\n",
            "At iteration 3000 the loss is 2.458.\n",
            "At iteration 3500 the loss is 2.400.\n",
            "At iteration 4000 the loss is 2.666.\n",
            "At iteration 4500 the loss is 2.693.\n",
            "At iteration 5000 the loss is 2.381.\n",
            "\n",
            "After epoch 2 the validation accuracy is 0.151.\n",
            "\n",
            "At iteration 500 the loss is 2.686.\n",
            "At iteration 1000 the loss is 2.372.\n",
            "At iteration 1500 the loss is 2.569.\n",
            "At iteration 2000 the loss is 2.598.\n",
            "At iteration 2500 the loss is 2.370.\n",
            "At iteration 3000 the loss is 2.399.\n",
            "At iteration 3500 the loss is 2.390.\n",
            "At iteration 4000 the loss is 2.469.\n",
            "At iteration 4500 the loss is 2.564.\n",
            "At iteration 5000 the loss is 2.583.\n",
            "\n",
            "After epoch 3 the validation accuracy is 0.155.\n",
            "\n",
            "At iteration 500 the loss is 2.617.\n",
            "At iteration 1000 the loss is 2.513.\n",
            "At iteration 1500 the loss is 2.415.\n",
            "At iteration 2000 the loss is 2.398.\n",
            "At iteration 2500 the loss is 2.475.\n",
            "At iteration 3000 the loss is 2.467.\n",
            "At iteration 3500 the loss is 2.420.\n",
            "At iteration 4000 the loss is 2.499.\n",
            "At iteration 4500 the loss is 2.677.\n",
            "At iteration 5000 the loss is 2.487.\n",
            "\n",
            "After epoch 4 the validation accuracy is 0.195.\n",
            "\n",
            "At iteration 500 the loss is 2.334.\n",
            "At iteration 1000 the loss is 2.372.\n",
            "At iteration 1500 the loss is 2.493.\n",
            "At iteration 2000 the loss is 2.630.\n",
            "At iteration 2500 the loss is 2.780.\n",
            "At iteration 3000 the loss is 2.418.\n",
            "At iteration 3500 the loss is 2.433.\n",
            "At iteration 4000 the loss is 2.549.\n",
            "At iteration 4500 the loss is 2.499.\n",
            "At iteration 5000 the loss is 2.706.\n",
            "\n",
            "After epoch 5 the validation accuracy is 0.096.\n",
            "\n",
            "At iteration 500 the loss is 2.759.\n",
            "At iteration 1000 the loss is 2.552.\n",
            "At iteration 1500 the loss is 2.440.\n",
            "At iteration 2000 the loss is 2.408.\n",
            "At iteration 2500 the loss is 2.471.\n",
            "At iteration 3000 the loss is 2.440.\n",
            "At iteration 3500 the loss is 2.357.\n",
            "At iteration 4000 the loss is 2.580.\n",
            "At iteration 4500 the loss is 2.380.\n",
            "At iteration 5000 the loss is 2.441.\n",
            "\n",
            "After epoch 6 the validation accuracy is 0.195.\n",
            "\n",
            "At iteration 500 the loss is 2.210.\n",
            "At iteration 1000 the loss is 2.836.\n",
            "At iteration 1500 the loss is 2.396.\n",
            "At iteration 2000 the loss is 2.463.\n",
            "At iteration 2500 the loss is 2.362.\n",
            "At iteration 3000 the loss is 2.528.\n",
            "At iteration 3500 the loss is 2.303.\n",
            "At iteration 4000 the loss is 2.450.\n",
            "At iteration 4500 the loss is 2.570.\n",
            "At iteration 5000 the loss is 2.603.\n",
            "\n",
            "After epoch 7 the validation accuracy is 0.190.\n",
            "\n",
            "At iteration 500 the loss is 2.398.\n",
            "At iteration 1000 the loss is 2.438.\n",
            "At iteration 1500 the loss is 2.177.\n",
            "At iteration 2000 the loss is 2.537.\n",
            "At iteration 2500 the loss is 2.448.\n",
            "At iteration 3000 the loss is 2.273.\n",
            "At iteration 3500 the loss is 2.388.\n",
            "At iteration 4000 the loss is 2.766.\n",
            "At iteration 4500 the loss is 2.579.\n",
            "At iteration 5000 the loss is 2.485.\n",
            "\n",
            "After epoch 8 the validation accuracy is 0.145.\n",
            "\n",
            "At iteration 500 the loss is 2.409.\n",
            "At iteration 1000 the loss is 2.563.\n",
            "At iteration 1500 the loss is 2.447.\n",
            "At iteration 2000 the loss is 2.577.\n",
            "At iteration 2500 the loss is 2.428.\n",
            "At iteration 3000 the loss is 2.562.\n",
            "At iteration 3500 the loss is 2.681.\n",
            "At iteration 4000 the loss is 2.325.\n",
            "At iteration 4500 the loss is 2.513.\n",
            "At iteration 5000 the loss is 2.612.\n",
            "\n",
            "After epoch 9 the validation accuracy is 0.191.\n",
            "\n",
            "At iteration 500 the loss is 2.531.\n",
            "At iteration 1000 the loss is 2.380.\n",
            "At iteration 1500 the loss is 2.458.\n",
            "At iteration 2000 the loss is 2.740.\n",
            "At iteration 2500 the loss is 2.450.\n",
            "At iteration 3000 the loss is 2.405.\n",
            "At iteration 3500 the loss is 2.398.\n",
            "At iteration 4000 the loss is 2.257.\n",
            "At iteration 4500 the loss is 2.195.\n",
            "At iteration 5000 the loss is 2.598.\n",
            "\n",
            "After epoch 10 the validation accuracy is 0.192.\n",
            "\n"
          ]
        },
        {
          "output_type": "execute_result",
          "data": {
            "text/plain": [
              "[<matplotlib.lines.Line2D at 0x7fbc4a3ce590>]"
            ]
          },
          "metadata": {},
          "execution_count": 16
        },
        {
          "output_type": "display_data",
          "data": {
            "text/plain": [
              "<Figure size 640x480 with 1 Axes>"
            ],
            "image/png": "[encoded data removed]"
          },
          "metadata": {}
        }
      ],
      "source": [
        "import matplotlib.pyplot as plt\n",
        "%matplotlib inline\n",
        "\n",
        "EPOCHS = 10 # epoch\n",
        "optimizer = torch.optim.SGD(model_values.parameters(), lr=3)\n",
        "\n",
        "accuracies=[]\n",
        "for epoch in range(1, EPOCHS + 1):\n",
        "    epoch_start_time = time.time()\n",
        "    train_an_epoch(train_dataloader, optimizer)\n",
        "    accuracy = get_accuracy(valid_dataloader)\n",
        "    accuracies.append(accuracy)\n",
        "    time_taken = time.time() - epoch_start_time\n",
        "    print()\n",
        "    print(f'After epoch {epoch} the validation accuracy is {accuracy:.3f}.')\n",
        "    print()\n",
        "    \n",
        "plt.plot(range(1, EPOCHS+1), accuracies)"
      ]
    },
    {
      "cell_type": "code",
      "execution_count": 17,
      "metadata": {
        "colab": {
          "base_uri": "https://localhost:8080/"
        },
        "id": "kUJqaz_OuL2H",
        "outputId": "6b5335c5-3dda-4403-ad3b-460adbc41820"
      },
      "outputs": [
        {
          "output_type": "stream",
          "name": "stdout",
          "text": [
            "test accuracy from model trained on 10 epochs using SGD optimizer: 0.1917694904142145\n"
          ]
        }
      ],
      "source": [
        "test_accuracy = get_accuracy(test_dataloader)\n",
        "print(\"test accuracy from model trained on 10 epochs using SGD optimizer:\", test_accuracy)"
      ]
    },
    {
      "cell_type": "markdown",
      "metadata": {
        "id": "6ms3awjtuL2H"
      },
      "source": [
        "## Using the Adam Optimizer\n",
        "Given the better convergence properties of the Adam optimizer, we test a model using it instead of the SGD optimizer."
      ]
    },
    {
      "cell_type": "code",
      "execution_count": 18,
      "metadata": {
        "id": "55zEAV31uL2H"
      },
      "outputs": [],
      "source": [
        "from torch.utils.data.dataset import random_split\n",
        "\n",
        "BATCH_SIZE = 64 # batch size for training\n",
        "\n",
        "examples_rounds, examples_categories, examples_values = create_label_text_pairs(data)\n",
        "\n",
        "train_size = int(0.8*len(examples_values))\n",
        "val_size = int(0.1*len(examples_values))\n",
        "test_size = int(0.1*len(examples_values))\n",
        "\n",
        "train_data = examples_values[:train_size]\n",
        "valid_data = examples_values[train_size:train_size+val_size]\n",
        "test_data = examples_values[val_size:train_size+val_size+test_size]\n",
        "\n",
        "train_dataloader = DataLoader(train_data, batch_size=BATCH_SIZE,\n",
        "                              shuffle=True, \n",
        "                              collate_fn=collate_into_bow)\n",
        "valid_dataloader = DataLoader(valid_data, batch_size=BATCH_SIZE,\n",
        "                              shuffle=False, \n",
        "                              collate_fn=collate_into_bow)\n",
        "test_dataloader = DataLoader(test_data, batch_size=BATCH_SIZE,\n",
        "                             shuffle=False, \n",
        "                             collate_fn=collate_into_bow)\n",
        "\n",
        "num_labels = len(set([label for (label, text) in train_data]))\n",
        "vocab_size = len(vocab)\n",
        "model_adam = BoWClassifier(num_labels, vocab_size)"
      ]
    },
    {
      "cell_type": "code",
      "execution_count": 19,
      "metadata": {
        "id": "BHZWIxRpuL2I"
      },
      "outputs": [],
      "source": [
        "import time\n",
        "\n",
        "loss_function = torch.nn.NLLLoss()\n",
        "\n",
        "def train_an_epoch(dataloader, optimizer):\n",
        "    model_adam.train() # Sets the module in training mode.\n",
        "    log_interval = 500\n",
        "\n",
        "    for idx, (label, text) in enumerate(dataloader):\n",
        "        model_adam.zero_grad()\n",
        "        log_probs = model_adam(text) # forward pass\n",
        "        loss = loss_function(log_probs, label)\n",
        "        loss.backward()\n",
        "        optimizer.step()\n",
        "        if idx % log_interval == 0 and idx > 0:\n",
        "            print(f'At iteration {idx} the loss is {loss:.3f}.')\n",
        "\n",
        "\n",
        "def get_accuracy(dataloader):\n",
        "    model_adam.eval() # switch to indicate that the model is not in training mode\n",
        "    with torch.no_grad(): # disables gradient calculation (for when you are sure you will not call Tensor.backward()). This will reduce memory consumption.\n",
        "        total_examples = 0\n",
        "        correct = 0\n",
        "        for labels, text in dataloader: # for each batch in dataloader\n",
        "            total_examples += text.shape[0]\n",
        "            probs = model_adam(text)\n",
        "            preds = probs.argmax(1)\n",
        "            correct += (torch.eq(preds, labels)).sum().item()\n",
        "        overall_accuracy = correct / total_examples\n",
        "        return overall_accuracy"
      ]
    },
    {
      "cell_type": "code",
      "execution_count": 20,
      "metadata": {
        "colab": {
          "base_uri": "https://localhost:8080/",
          "height": 1000
        },
        "id": "0GzAfK6buL2I",
        "outputId": "94408ce1-1ba6-4100-c18a-3fae015c7069"
      },
      "outputs": [
        {
          "output_type": "stream",
          "name": "stdout",
          "text": [
            "At iteration 500 the loss is 4.604.\n",
            "At iteration 1000 the loss is 4.960.\n",
            "At iteration 1500 the loss is 4.236.\n",
            "At iteration 2000 the loss is 3.595.\n",
            "At iteration 2500 the loss is 4.784.\n",
            "At iteration 3000 the loss is 4.077.\n",
            "At iteration 3500 the loss is 4.594.\n",
            "At iteration 4000 the loss is 4.436.\n",
            "At iteration 4500 the loss is 5.258.\n",
            "At iteration 5000 the loss is 5.533.\n",
            "At iteration 5500 the loss is 4.548.\n",
            "At iteration 6000 the loss is 6.042.\n",
            "At iteration 6500 the loss is 4.286.\n",
            "At iteration 7000 the loss is 4.005.\n",
            "At iteration 7500 the loss is 8.371.\n",
            "At iteration 8000 the loss is 4.950.\n",
            "\n",
            "After epoch 1 the validation accuracy is 0.137.\n",
            "\n",
            "At iteration 500 the loss is 4.603.\n",
            "At iteration 1000 the loss is 3.497.\n",
            "At iteration 1500 the loss is 5.069.\n",
            "At iteration 2000 the loss is 3.650.\n",
            "At iteration 2500 the loss is 3.574.\n",
            "At iteration 3000 the loss is 4.706.\n",
            "At iteration 3500 the loss is 3.349.\n",
            "At iteration 4000 the loss is 4.506.\n",
            "At iteration 4500 the loss is 4.957.\n",
            "At iteration 5000 the loss is 4.026.\n",
            "At iteration 5500 the loss is 4.270.\n",
            "At iteration 6000 the loss is 5.378.\n",
            "At iteration 6500 the loss is 3.733.\n",
            "At iteration 7000 the loss is 4.480.\n",
            "At iteration 7500 the loss is 5.476.\n",
            "At iteration 8000 the loss is 4.711.\n",
            "\n",
            "After epoch 2 the validation accuracy is 0.109.\n",
            "\n",
            "At iteration 500 the loss is 4.782.\n",
            "At iteration 1000 the loss is 4.696.\n",
            "At iteration 1500 the loss is 4.156.\n",
            "At iteration 2000 the loss is 4.017.\n",
            "At iteration 2500 the loss is 4.409.\n",
            "At iteration 3000 the loss is 4.535.\n",
            "At iteration 3500 the loss is 4.050.\n",
            "At iteration 4000 the loss is 3.681.\n",
            "At iteration 4500 the loss is 4.894.\n",
            "At iteration 5000 the loss is 5.469.\n",
            "At iteration 5500 the loss is 3.891.\n",
            "At iteration 6000 the loss is 4.409.\n",
            "At iteration 6500 the loss is 3.626.\n",
            "At iteration 7000 the loss is 3.260.\n",
            "At iteration 7500 the loss is 5.054.\n",
            "At iteration 8000 the loss is 3.771.\n",
            "\n",
            "After epoch 3 the validation accuracy is 0.110.\n",
            "\n",
            "At iteration 500 the loss is 5.220.\n",
            "At iteration 1000 the loss is 5.323.\n",
            "At iteration 1500 the loss is 4.297.\n",
            "At iteration 2000 the loss is 3.844.\n",
            "At iteration 2500 the loss is 3.931.\n",
            "At iteration 3000 the loss is 6.006.\n",
            "At iteration 3500 the loss is 4.937.\n",
            "At iteration 4000 the loss is 4.573.\n",
            "At iteration 4500 the loss is 3.982.\n",
            "At iteration 5000 the loss is 4.480.\n",
            "At iteration 5500 the loss is 5.063.\n",
            "At iteration 6000 the loss is 4.442.\n",
            "At iteration 6500 the loss is 5.052.\n",
            "At iteration 7000 the loss is 5.414.\n",
            "At iteration 7500 the loss is 5.537.\n",
            "At iteration 8000 the loss is 3.456.\n",
            "\n",
            "After epoch 4 the validation accuracy is 0.116.\n",
            "\n",
            "At iteration 500 the loss is 3.958.\n",
            "At iteration 1000 the loss is 4.634.\n",
            "At iteration 1500 the loss is 5.045.\n",
            "At iteration 2000 the loss is 3.432.\n",
            "At iteration 2500 the loss is 3.948.\n",
            "At iteration 3000 the loss is 4.487.\n",
            "At iteration 3500 the loss is 4.181.\n",
            "At iteration 4000 the loss is 6.174.\n",
            "At iteration 4500 the loss is 6.177.\n",
            "At iteration 5000 the loss is 4.957.\n",
            "At iteration 5500 the loss is 4.160.\n",
            "At iteration 6000 the loss is 3.582.\n",
            "At iteration 6500 the loss is 3.344.\n",
            "At iteration 7000 the loss is 3.805.\n",
            "At iteration 7500 the loss is 6.802.\n",
            "At iteration 8000 the loss is 3.357.\n",
            "\n",
            "After epoch 5 the validation accuracy is 0.127.\n",
            "\n",
            "At iteration 500 the loss is 4.396.\n",
            "At iteration 1000 the loss is 4.450.\n",
            "At iteration 1500 the loss is 7.014.\n",
            "At iteration 2000 the loss is 6.597.\n",
            "At iteration 2500 the loss is 5.350.\n",
            "At iteration 3000 the loss is 4.128.\n",
            "At iteration 3500 the loss is 4.647.\n",
            "At iteration 4000 the loss is 4.456.\n",
            "At iteration 4500 the loss is 3.838.\n",
            "At iteration 5000 the loss is 4.952.\n",
            "At iteration 5500 the loss is 8.076.\n",
            "At iteration 6000 the loss is 5.228.\n",
            "At iteration 6500 the loss is 4.512.\n",
            "At iteration 7000 the loss is 5.234.\n",
            "At iteration 7500 the loss is 6.109.\n",
            "At iteration 8000 the loss is 5.512.\n",
            "\n",
            "After epoch 6 the validation accuracy is 0.099.\n",
            "\n",
            "At iteration 500 the loss is 4.021.\n",
            "At iteration 1000 the loss is 5.766.\n",
            "At iteration 1500 the loss is 4.127.\n",
            "At iteration 2000 the loss is 4.596.\n",
            "At iteration 2500 the loss is 4.768.\n",
            "At iteration 3000 the loss is 3.951.\n",
            "At iteration 3500 the loss is 4.590.\n",
            "At iteration 4000 the loss is 5.926.\n",
            "At iteration 4500 the loss is 3.851.\n",
            "At iteration 5000 the loss is 5.761.\n",
            "At iteration 5500 the loss is 3.551.\n",
            "At iteration 6000 the loss is 4.696.\n",
            "At iteration 6500 the loss is 3.965.\n",
            "At iteration 7000 the loss is 3.858.\n",
            "At iteration 7500 the loss is 3.955.\n",
            "At iteration 8000 the loss is 3.649.\n",
            "\n",
            "After epoch 7 the validation accuracy is 0.108.\n",
            "\n",
            "At iteration 500 the loss is 5.794.\n",
            "At iteration 1000 the loss is 3.860.\n",
            "At iteration 1500 the loss is 4.588.\n",
            "At iteration 2000 the loss is 3.753.\n",
            "At iteration 2500 the loss is 5.813.\n",
            "At iteration 3000 the loss is 4.450.\n",
            "At iteration 3500 the loss is 3.775.\n",
            "At iteration 4000 the loss is 6.676.\n",
            "At iteration 4500 the loss is 4.561.\n",
            "At iteration 5000 the loss is 5.590.\n",
            "At iteration 5500 the loss is 4.674.\n",
            "At iteration 6000 the loss is 3.826.\n",
            "At iteration 6500 the loss is 3.652.\n",
            "At iteration 7000 the loss is 3.973.\n",
            "At iteration 7500 the loss is 4.647.\n",
            "At iteration 8000 the loss is 4.158.\n",
            "\n",
            "After epoch 8 the validation accuracy is 0.125.\n",
            "\n",
            "At iteration 500 the loss is 4.339.\n",
            "At iteration 1000 the loss is 4.711.\n",
            "At iteration 1500 the loss is 5.670.\n",
            "At iteration 2000 the loss is 4.429.\n",
            "At iteration 2500 the loss is 4.900.\n",
            "At iteration 3000 the loss is 4.121.\n",
            "At iteration 3500 the loss is 4.338.\n",
            "At iteration 4000 the loss is 3.731.\n",
            "At iteration 4500 the loss is 4.356.\n",
            "At iteration 5000 the loss is 3.766.\n",
            "At iteration 5500 the loss is 4.909.\n",
            "At iteration 6000 the loss is 5.461.\n",
            "At iteration 6500 the loss is 3.462.\n",
            "At iteration 7000 the loss is 3.801.\n",
            "At iteration 7500 the loss is 3.441.\n",
            "At iteration 8000 the loss is 5.314.\n",
            "\n",
            "After epoch 9 the validation accuracy is 0.103.\n",
            "\n",
            "At iteration 500 the loss is 4.008.\n",
            "At iteration 1000 the loss is 4.055.\n",
            "At iteration 1500 the loss is 4.220.\n",
            "At iteration 2000 the loss is 4.675.\n",
            "At iteration 2500 the loss is 5.237.\n",
            "At iteration 3000 the loss is 4.399.\n",
            "At iteration 3500 the loss is 4.655.\n",
            "At iteration 4000 the loss is 4.221.\n",
            "At iteration 4500 the loss is 6.730.\n",
            "At iteration 5000 the loss is 3.735.\n",
            "At iteration 5500 the loss is 4.638.\n",
            "At iteration 6000 the loss is 4.915.\n",
            "At iteration 6500 the loss is 7.966.\n",
            "At iteration 7000 the loss is 4.988.\n",
            "At iteration 7500 the loss is 4.509.\n",
            "At iteration 8000 the loss is 5.811.\n",
            "\n",
            "After epoch 10 the validation accuracy is 0.132.\n",
            "\n"
          ]
        },
        {
          "output_type": "execute_result",
          "data": {
            "text/plain": [
              "[<matplotlib.lines.Line2D at 0x7fbc42c9e170>]"
            ]
          },
          "metadata": {},
          "execution_count": 20
        },
        {
          "output_type": "display_data",
          "data": {
            "text/plain": [
              "<Figure size 640x480 with 1 Axes>"
            ],
            "image/png": "[encoded data removed]"
          },
          "metadata": {}
        }
      ],
      "source": [
        "import matplotlib.pyplot as plt\n",
        "%matplotlib inline\n",
        "\n",
        "EPOCHS = 10 # epoch\n",
        "optimizer_adam = torch.optim.Adam(model_adam.parameters(), lr=3)\n",
        "\n",
        "accuracies=[]\n",
        "for epoch in range(1, EPOCHS + 1):\n",
        "    epoch_start_time = time.time()\n",
        "    train_an_epoch(train_dataloader, optimizer_adam)\n",
        "    accuracy = get_accuracy(valid_dataloader)\n",
        "    accuracies.append(accuracy)\n",
        "    time_taken = time.time() - epoch_start_time\n",
        "    print()\n",
        "    print(f'After epoch {epoch} the validation accuracy is {accuracy:.3f}.')\n",
        "    print()\n",
        "    \n",
        "plt.plot(range(1, EPOCHS+1), accuracies)"
      ]
    },
    {
      "cell_type": "code",
      "execution_count": 21,
      "metadata": {
        "colab": {
          "base_uri": "https://localhost:8080/"
        },
        "id": "mETAUwJXuL2I",
        "outputId": "45ab8331-e1f6-457b-d409-e6bb23031dd4"
      },
      "outputs": [
        {
          "output_type": "stream",
          "name": "stdout",
          "text": [
            "test accuracy from model trained on 10 epochs using Adam optimizer: 0.131539274488613\n"
          ]
        }
      ],
      "source": [
        "test_accuracy = get_accuracy(test_dataloader)\n",
        "print(\"test accuracy from model trained on 10 epochs using Adam optimizer:\", test_accuracy)"
      ]
    }
  ],
  "metadata": {
    "kernelspec": {
      "display_name": "capp30255",
      "language": "python",
      "name": "python3"
    },
    "language_info": {
      "codemirror_mode": {
        "name": "ipython",
        "version": 3
      },
      "file_extension": ".py",
      "mimetype": "text/x-python",
      "name": "python",
      "nbconvert_exporter": "python",
      "pygments_lexer": "ipython3",
      "version": "3.10.10"
    },
    "orig_nbformat": 4,
    "colab": {
      "provenance": [],
      "gpuType": "T4"
    },
    "accelerator": "TPU",
    "gpuClass": "standard"
  },
  "nbformat": 4,
  "nbformat_minor": 0
}