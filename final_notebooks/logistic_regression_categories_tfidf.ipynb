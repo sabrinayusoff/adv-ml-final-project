{
  "cells": [
    {
      "cell_type": "markdown",
      "metadata": {
        "id": "CVxsgJm4q-Hl"
      },
      "source": [
        "# Predicting the Category of a Jeopardy! Question using Logistic Regression"
      ]
    },
    {
      "cell_type": "code",
      "source": [
        "!pip install portalocker"
      ],
      "metadata": {
        "colab": {
          "base_uri": "https://localhost:8080/"
        },
        "id": "_Hc8G_QTrXpe",
        "outputId": "0f386f12-ad02-451c-d76e-6ce9fc5b600b"
      },
      "execution_count": 1,
      "outputs": [
        {
          "output_type": "stream",
          "name": "stdout",
          "text": [
            "Looking in indexes: https://pypi.org/simple, https://us-python.pkg.dev/colab-wheels/public/simple/\n",
            "Requirement already satisfied: portalocker in /usr/local/lib/python3.10/dist-packages (2.7.0)\n"
          ]
        }
      ]
    },
    {
      "cell_type": "code",
      "execution_count": 2,
      "metadata": {
        "id": "nA-DfAwwq-Hn"
      },
      "outputs": [],
      "source": [
        "import torch\n",
        "import torchtext\n",
        "import torchdata\n",
        "import portalocker\n",
        "import json\n",
        "import pandas as pd\n",
        "from torch.utils.data import Dataset\n",
        "from torch.utils.data import TensorDataset, DataLoader\n",
        "from torchtext.data.utils import get_tokenizer\n",
        "from torchtext.vocab import build_vocab_from_iterator"
      ]
    },
    {
      "cell_type": "code",
      "source": [
        "from torch import cuda\n",
        "device = 'cuda' if cuda.is_available() else 'cpu'\n",
        "device\n",
        "\n",
        "from google.colab import drive \n",
        "drive.mount('/content/gdrive')"
      ],
      "metadata": {
        "colab": {
          "base_uri": "https://localhost:8080/"
        },
        "id": "CEkHi-x3rUTM",
        "outputId": "50245eef-85e5-48be-a168-a39fe5ac872e"
      },
      "execution_count": 3,
      "outputs": [
        {
          "output_type": "stream",
          "name": "stdout",
          "text": [
            "Drive already mounted at /content/gdrive; to attempt to forcibly remount, call drive.mount(\"/content/gdrive\", force_remount=True).\n"
          ]
        }
      ]
    },
    {
      "cell_type": "code",
      "execution_count": 4,
      "metadata": {
        "id": "p-nC0755q-Ho"
      },
      "outputs": [],
      "source": [
        "filename = 'gdrive/MyDrive/Colab Notebooks/JEOPARDY_CSV.csv'\n",
        "\n",
        "with open(filename, 'r', encoding='iso-8859-1') as f:\n",
        "    df = pd.read_csv(f)"
      ]
    },
    {
      "cell_type": "code",
      "execution_count": 5,
      "metadata": {
        "id": "QiDDkuHiq-Hp"
      },
      "outputs": [],
      "source": [
        "df = df[[' Category', ' Question']]\n",
        "df = df.rename(columns={' Question': 'Question',' Category': 'Category'})\n",
        "df = df.sample(frac=0.8,random_state=200)"
      ]
    },
    {
      "cell_type": "code",
      "source": [
        "most_common_cat_count = df['Category'].value_counts().nlargest(4)\n",
        "most_common_cat_count"
      ],
      "metadata": {
        "colab": {
          "base_uri": "https://localhost:8080/"
        },
        "id": "VX7r5YsMrNeA",
        "outputId": "ab36e6b5-677a-4fba-eefe-2bdd6c2aff30"
      },
      "execution_count": 6,
      "outputs": [
        {
          "output_type": "execute_result",
          "data": {
            "text/plain": [
              "BEFORE & AFTER      440\n",
              "SCIENCE             428\n",
              "LITERATURE          394\n",
              "AMERICAN HISTORY    324\n",
              "Name: Category, dtype: int64"
            ]
          },
          "metadata": {},
          "execution_count": 6
        }
      ]
    },
    {
      "cell_type": "code",
      "execution_count": 7,
      "metadata": {
        "colab": {
          "base_uri": "https://localhost:8080/"
        },
        "id": "atzhP4FIq-Hp",
        "outputId": "fd9e6418-0fe0-461e-a44d-263bf422759f"
      },
      "outputs": [
        {
          "output_type": "stream",
          "name": "stderr",
          "text": [
            "<ipython-input-7-aaf53764c5d0>:10: SettingWithCopyWarning: \n",
            "A value is trying to be set on a copy of a slice from a DataFrame.\n",
            "Try using .loc[row_indexer,col_indexer] = value instead\n",
            "\n",
            "See the caveats in the documentation: https://pandas.pydata.org/pandas-docs/stable/user_guide/indexing.html#returning-a-view-versus-a-copy\n",
            "  df['ENCODE_CAT'] = df['Category'].apply(lambda x: encode_cat(x))\n"
          ]
        },
        {
          "output_type": "execute_result",
          "data": {
            "text/plain": [
              "array([0, 1, 2, 3])"
            ]
          },
          "metadata": {},
          "execution_count": 7
        }
      ],
      "source": [
        "most_common_cat = most_common_cat_count.index.tolist()\n",
        "df = df[df['Category'].isin(most_common_cat)]\n",
        "encode_dict = {}\n",
        "\n",
        "def encode_cat(x):\n",
        "    if x not in encode_dict.keys():\n",
        "        encode_dict[x]=len(encode_dict)\n",
        "    return encode_dict[x]\n",
        "\n",
        "df['ENCODE_CAT'] = df['Category'].apply(lambda x: encode_cat(x))\n",
        "df['ENCODE_CAT'].unique()"
      ]
    },
    {
      "cell_type": "code",
      "execution_count": 8,
      "metadata": {
        "id": "QZa48VEnq-Hq"
      },
      "outputs": [],
      "source": [
        "# split into train, valid and test dataset\n",
        "from sklearn.model_selection import train_test_split\n",
        "\n",
        "train_data, test_data = train_test_split(df, train_size=0.9, test_size=0.1, random_state = 200)"
      ]
    },
    {
      "cell_type": "code",
      "execution_count": 9,
      "metadata": {
        "id": "K8_V0CTlq-Hq"
      },
      "outputs": [],
      "source": [
        "train_iter = iter(train_data.Question)"
      ]
    },
    {
      "cell_type": "code",
      "execution_count": 10,
      "metadata": {
        "id": "9RCn3FMsq-Hq"
      },
      "outputs": [],
      "source": [
        "tokenizer = get_tokenizer('basic_english')\n",
        "def yield_tokens(train_iter):\n",
        "    for text in train_iter:\n",
        "        yield tokenizer(text)\n",
        "\n",
        "vocab = build_vocab_from_iterator(\n",
        "    yield_tokens(train_iter), specials=[\"<unk>\"], min_freq=1000)"
      ]
    },
    {
      "cell_type": "code",
      "execution_count": 11,
      "metadata": {
        "colab": {
          "base_uri": "https://localhost:8080/"
        },
        "id": "0c0syaLLq-Hq",
        "outputId": "5ef7003a-13da-49bf-c627-edfb162625c5"
      },
      "outputs": [
        {
          "output_type": "stream",
          "name": "stderr",
          "text": [
            "/usr/local/lib/python3.10/dist-packages/sklearn/feature_extraction/text.py:528: UserWarning: The parameter 'token_pattern' will not be used since 'tokenizer' is not None'\n",
            "  warnings.warn(\n"
          ]
        }
      ],
      "source": [
        "from sklearn.feature_extraction.text import TfidfVectorizer\n",
        "\n",
        "tokenizer = get_tokenizer('basic_english')\n",
        "\n",
        "tfidf_vectorizer = TfidfVectorizer(tokenizer=tokenizer, max_features=len(vocab))\n",
        "tfidf_vectorizer.fit(train_data['Question'])\n",
        "\n",
        "inputs = tfidf_vectorizer.transform(train_data['Question'])"
      ]
    },
    {
      "cell_type": "code",
      "execution_count": 12,
      "metadata": {
        "id": "4F3_Uk2Sq-Hr"
      },
      "outputs": [],
      "source": [
        "test_inputs = tfidf_vectorizer.transform(test_data['Question'])"
      ]
    },
    {
      "cell_type": "code",
      "execution_count": 13,
      "metadata": {
        "id": "zZSol0Nrq-Hr"
      },
      "outputs": [],
      "source": [
        "# split training data further into train and validation set\n",
        "targets = train_data.ENCODE_CAT\n",
        "train_inputs, val_inputs, train_targets, val_targets = train_test_split(inputs, targets, test_size = 0.2)\n",
        "test_targets = test_data.ENCODE_CAT"
      ]
    },
    {
      "cell_type": "code",
      "execution_count": 14,
      "metadata": {
        "id": "z1dbWlG0q-Hr"
      },
      "outputs": [],
      "source": [
        "# convert into pytorch tensors\n",
        "train_input_tensors = torch.tensor(train_inputs.toarray()).float()\n",
        "val_input_tensors = torch.tensor(val_inputs.toarray()).float()\n",
        "test_input_tensors = torch.tensor(test_inputs.toarray()).float()\n",
        "\n",
        "train_target_tensors = torch.tensor(train_targets.values)\n",
        "val_target_tensors = torch.tensor(val_targets.values)\n",
        "test_target_tensors = torch.tensor(test_targets.values)"
      ]
    },
    {
      "cell_type": "code",
      "execution_count": 15,
      "metadata": {
        "id": "zz-A2Ilrq-Hr"
      },
      "outputs": [],
      "source": [
        "# create dataloaders\n",
        "BATCH_SIZE = 64\n",
        "\n",
        "train_ds = TensorDataset(train_target_tensors, train_input_tensors)\n",
        "val_ds = TensorDataset(val_target_tensors, val_input_tensors)\n",
        "test_ds = TensorDataset(test_target_tensors, test_input_tensors)\n",
        "\n",
        "train_dataloader = DataLoader(train_ds, batch_size=BATCH_SIZE, shuffle=True)\n",
        "valid_dataloader = DataLoader(val_ds, batch_size=BATCH_SIZE, shuffle=True)\n",
        "test_dataloader = DataLoader(test_ds, batch_size=BATCH_SIZE, shuffle=True)"
      ]
    },
    {
      "cell_type": "code",
      "execution_count": 16,
      "metadata": {
        "id": "9FGohbygq-Hs"
      },
      "outputs": [],
      "source": [
        "from torch import nn\n",
        "import torch.nn.functional as F\n",
        "\n",
        "class TFIDFClassifier(nn.Module):\n",
        "    def __init__(self, num_labels, vocab_size):\n",
        "        super(TFIDFClassifier, self).__init__()\n",
        "        self.linear = nn.Linear(vocab_size, num_labels)\n",
        "    \n",
        "    def forward(self, vec):\n",
        "        return F.log_softmax(self.linear(vec), dim=1)"
      ]
    },
    {
      "cell_type": "code",
      "execution_count": 17,
      "metadata": {
        "id": "zOcH5vqaq-Hs"
      },
      "outputs": [],
      "source": [
        "num_labels = len(df['ENCODE_CAT'].unique())\n",
        "vocab_size = len(vocab)\n",
        "model = TFIDFClassifier(num_labels, vocab_size)"
      ]
    },
    {
      "cell_type": "markdown",
      "metadata": {
        "id": "Rozot442q-Hs"
      },
      "source": [
        "### Create function to train one epoch"
      ]
    },
    {
      "cell_type": "code",
      "execution_count": 18,
      "metadata": {
        "id": "tDc13QDNq-Hs"
      },
      "outputs": [],
      "source": [
        "import time\n",
        "\n",
        "loss_function = torch.nn.NLLLoss()\n",
        "\n",
        "def train_an_epoch(dataloader, optimizer):\n",
        "    model.train() # Sets the module in training mode.\n",
        "    log_interval = 500\n",
        "\n",
        "    for idx, (label, text) in enumerate(dataloader):\n",
        "        model.zero_grad()\n",
        "        log_probs = model(text) # forward pass\n",
        "        loss = loss_function(log_probs, label)\n",
        "        loss.backward()\n",
        "        optimizer.step()\n",
        "        if idx % log_interval == 0 and idx > 0:\n",
        "            print(f'At iteration {idx} the loss is {loss:.3f}.')"
      ]
    },
    {
      "cell_type": "markdown",
      "metadata": {
        "id": "rjzncbE0q-Hs"
      },
      "source": [
        "### Create function to compute accuracy"
      ]
    },
    {
      "cell_type": "code",
      "execution_count": 19,
      "metadata": {
        "id": "5ZMSv3vkq-Ht"
      },
      "outputs": [],
      "source": [
        "def get_accuracy(dataloader):\n",
        "    model.eval() # switch to indicate that the model is not in training mode\n",
        "    with torch.no_grad(): # disables gradient calculation (for when you are sure you will not call Tensor.backward()). This will reduce memory consumption.\n",
        "        total_examples = 0\n",
        "        correct = 0\n",
        "        for labels, text in dataloader: # for each batch in dataloader\n",
        "            total_examples += text.shape[0]\n",
        "            probs = model(text)\n",
        "            preds = probs.argmax(1)\n",
        "            correct += (torch.eq(preds, labels)).sum().item()\n",
        "        overall_accuracy = correct / total_examples\n",
        "        return overall_accuracy\n"
      ]
    },
    {
      "cell_type": "markdown",
      "metadata": {
        "id": "YeJan74qq-Ht"
      },
      "source": [
        "### Training"
      ]
    },
    {
      "cell_type": "code",
      "execution_count": 20,
      "metadata": {
        "colab": {
          "base_uri": "https://localhost:8080/",
          "height": 991
        },
        "id": "yWpyMlx0q-Ht",
        "outputId": "86d6b663-7da6-4c71-b70d-704a7bfbb71e"
      },
      "outputs": [
        {
          "output_type": "stream",
          "name": "stdout",
          "text": [
            "\n",
            "After epoch 1 the validation accuracy is 0.406.\n",
            "\n",
            "\n",
            "After epoch 2 the validation accuracy is 0.406.\n",
            "\n",
            "\n",
            "After epoch 3 the validation accuracy is 0.395.\n",
            "\n",
            "\n",
            "After epoch 4 the validation accuracy is 0.406.\n",
            "\n",
            "\n",
            "After epoch 5 the validation accuracy is 0.406.\n",
            "\n",
            "\n",
            "After epoch 6 the validation accuracy is 0.392.\n",
            "\n",
            "\n",
            "After epoch 7 the validation accuracy is 0.304.\n",
            "\n",
            "\n",
            "After epoch 8 the validation accuracy is 0.388.\n",
            "\n",
            "\n",
            "After epoch 9 the validation accuracy is 0.322.\n",
            "\n",
            "\n",
            "After epoch 10 the validation accuracy is 0.304.\n",
            "\n"
          ]
        },
        {
          "output_type": "execute_result",
          "data": {
            "text/plain": [
              "[<matplotlib.lines.Line2D at 0x7f68fd5d7eb0>]"
            ]
          },
          "metadata": {},
          "execution_count": 20
        },
        {
          "output_type": "display_data",
          "data": {
            "text/plain": [
              "<Figure size 640x480 with 1 Axes>"
            ],
            "image/png": "[encoded data removed]"
          },
          "metadata": {}
        }
      ],
      "source": [
        "import matplotlib.pyplot as plt\n",
        "%matplotlib inline\n",
        "\n",
        "EPOCHS = 10\n",
        "optimizer = torch.optim.SGD(model.parameters(), lr=3)\n",
        "\n",
        "accuracies=[]\n",
        "for epoch in range(1, EPOCHS + 1):\n",
        "    epoch_start_time = time.time()\n",
        "    train_an_epoch(train_dataloader, optimizer)\n",
        "    accuracy = get_accuracy(valid_dataloader)\n",
        "    accuracies.append(accuracy)\n",
        "    time_taken = time.time() - epoch_start_time\n",
        "    print()\n",
        "    print(f'After epoch {epoch} the validation accuracy is {accuracy:.3f}.')\n",
        "    print()\n",
        "    \n",
        "plt.plot(range(1, EPOCHS+1), accuracies)"
      ]
    },
    {
      "cell_type": "markdown",
      "source": [
        "After running for only 10 epochs, we see the validation accuracy begins to drop past the sixth epoch. To prevent overfitting, we set the optimal number of epochs to be 6 and train the model again on just six epochs."
      ],
      "metadata": {
        "id": "8bUyh6IwtJiJ"
      }
    },
    {
      "cell_type": "code",
      "source": [
        "# create dataloaders\n",
        "BATCH_SIZE = 64\n",
        "\n",
        "train_ds = TensorDataset(train_target_tensors, train_input_tensors)\n",
        "val_ds = TensorDataset(val_target_tensors, val_input_tensors)\n",
        "test_ds = TensorDataset(test_target_tensors, test_input_tensors)\n",
        "\n",
        "train_dataloader = DataLoader(train_ds, batch_size=BATCH_SIZE, shuffle=True)\n",
        "valid_dataloader = DataLoader(val_ds, batch_size=BATCH_SIZE, shuffle=True)\n",
        "test_dataloader = DataLoader(test_ds, batch_size=BATCH_SIZE, shuffle=True)\n",
        "\n",
        "num_labels = len(df['ENCODE_CAT'].unique())\n",
        "vocab_size = len(vocab)\n",
        "model = TFIDFClassifier(num_labels, vocab_size)\n",
        "\n",
        "import matplotlib.pyplot as plt\n",
        "%matplotlib inline\n",
        "\n",
        "EPOCHS = 6\n",
        "optimizer = torch.optim.SGD(model.parameters(), lr=3)\n",
        "\n",
        "accuracies=[]\n",
        "for epoch in range(1, EPOCHS + 1):\n",
        "    epoch_start_time = time.time()\n",
        "    train_an_epoch(train_dataloader, optimizer)\n",
        "    accuracy = get_accuracy(valid_dataloader)\n",
        "    accuracies.append(accuracy)\n",
        "    time_taken = time.time() - epoch_start_time"
      ],
      "metadata": {
        "id": "E8FYHpmLtbe_"
      },
      "execution_count": 22,
      "outputs": []
    },
    {
      "cell_type": "code",
      "execution_count": 23,
      "metadata": {
        "colab": {
          "base_uri": "https://localhost:8080/"
        },
        "id": "H7sJ0RNdq-Ht",
        "outputId": "604cf027-ff5f-4e67-dd22-2a5c7fdd757d"
      },
      "outputs": [
        {
          "output_type": "stream",
          "name": "stdout",
          "text": [
            "test accuracy from model trained on 50 epochs: 0.3018867924528302\n"
          ]
        }
      ],
      "source": [
        "test_accuracy = get_accuracy(test_dataloader)\n",
        "print(\"test accuracy from model trained on 50 epochs:\", test_accuracy)"
      ]
    }
  ],
  "metadata": {
    "kernelspec": {
      "display_name": "capp30255",
      "language": "python",
      "name": "python3"
    },
    "language_info": {
      "codemirror_mode": {
        "name": "ipython",
        "version": 3
      },
      "file_extension": ".py",
      "mimetype": "text/x-python",
      "name": "python",
      "nbconvert_exporter": "python",
      "pygments_lexer": "ipython3",
      "version": "3.10.11"
    },
    "orig_nbformat": 4,
    "colab": {
      "provenance": []
    }
  },
  "nbformat": 4,
  "nbformat_minor": 0
}