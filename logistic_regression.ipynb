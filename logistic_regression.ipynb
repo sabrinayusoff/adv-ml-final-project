{
 "cells": [
  {
   "attachments": {},
   "cell_type": "markdown",
   "metadata": {},
   "source": [
    "# Predicting Round, Category and Value of a Jeopardy! Question using Logistic Regression"
   ]
  },
  {
   "cell_type": "code",
   "execution_count": 9,
   "metadata": {},
   "outputs": [],
   "source": [
    "import torch\n",
    "import torchtext\n",
    "import torchdata\n",
    "import portalocker\n",
    "import json\n",
    "from torch.utils.data import Dataset\n",
    "from torch.utils.data import DataLoader"
   ]
  },
  {
   "cell_type": "code",
   "execution_count": 3,
   "metadata": {},
   "outputs": [],
   "source": [
    "# Function to ensure the correct versions are installed.\n",
    "def check_lib_versions():\n",
    "    libversions = {torch: \"2.0\",  torchtext: \"0.15.1\", torchdata: \"0.6.0\",\n",
    "                   portalocker: \"2.7.0\"}\n",
    "    for l, v in libversions.items():\n",
    "        try:\n",
    "            assert l.__version__ == v\n",
    "        except:\n",
    "            name = [n for n in globals() if globals()[n] is l][0]\n",
    "            print(f'Error: The version of {name} should be {v}.')\n",
    "check_lib_versions()"
   ]
  },
  {
   "cell_type": "code",
   "execution_count": 16,
   "metadata": {},
   "outputs": [
    {
     "data": {
      "text/plain": [
       "216930"
      ]
     },
     "execution_count": 16,
     "metadata": {},
     "output_type": "execute_result"
    }
   ],
   "source": [
    "filename = 'jeopardy_json.json'\n",
    "# questions = {}\n",
    "# rounds = {}\n",
    "# categories = {}\n",
    "# values = {}\n",
    "\n",
    "with open(filename, 'r', encoding='iso-8859-1') as f:\n",
    "    data = json.load(f)\n",
    "\n",
    "# data"
   ]
  },
  {
   "cell_type": "code",
   "execution_count": 25,
   "metadata": {},
   "outputs": [
    {
     "data": {
      "text/plain": [
       "173544"
      ]
     },
     "execution_count": 25,
     "metadata": {},
     "output_type": "execute_result"
    }
   ],
   "source": [
    "train_size = int(0.8*len(data))\n",
    "val_size = int(0.1*len(data))\n",
    "test_size = int(0.1*len(data))\n",
    "\n",
    "train_size"
   ]
  },
  {
   "cell_type": "code",
   "execution_count": 86,
   "metadata": {},
   "outputs": [],
   "source": [
    "# from torch.utils.data import random_split\n",
    "# FIGURE OUT HOW TO USE RANDOM_SPLIT WITH DATASET CLASS\n",
    "\n",
    "train_data = data[:train_size]\n",
    "val_data = data[:val_size]\n",
    "test_data = data[:test_size]"
   ]
  },
  {
   "attachments": {},
   "cell_type": "markdown",
   "metadata": {},
   "source": [
    "Round lables:\n",
    "0 - Jeopardy!\n",
    "1 - Double Jeopardy!\n",
    "2 - Final Jeopardy!\n",
    "3 - Tiebreaker"
   ]
  },
  {
   "cell_type": "code",
   "execution_count": 90,
   "metadata": {},
   "outputs": [
    {
     "name": "stdout",
     "output_type": "stream",
     "text": [
      "(1, \"'For the last 8 years of his life, Galileo was under house arrest for espousing this man's theory'\")\n",
      "('HISTORY', \"'For the last 8 years of his life, Galileo was under house arrest for espousing this man's theory'\")\n",
      "('$200', \"'For the last 8 years of his life, Galileo was under house arrest for espousing this man's theory'\")\n"
     ]
    }
   ],
   "source": [
    "examples_rounds = []\n",
    "examples_categories = []\n",
    "examples_values = []\n",
    "\n",
    "def create_label_text_pairs(train_data):\n",
    "    for row in train_data:\n",
    "        if row['round'] == 'Jeopardy!':\n",
    "            round_label = 1\n",
    "        elif row['round'] == 'Double Jeopardy!':\n",
    "            round_label = 2\n",
    "        elif row['round'] == 'Final Jeopardy!':\n",
    "            round_label = 3\n",
    "        elif row['round'] == 'Tiebreaker':\n",
    "            round_label = 4\n",
    "        examples_rounds.append((round_label, row['question']))\n",
    "        examples_categories.append((row['category'], row['question']))\n",
    "        examples_values.append((row['value'], row['question']))\n",
    "    return examples_rounds, examples_categories, examples_values\n",
    "\n",
    "examples_rounds, examples_categories, examples_values = create_label_text_pairs(train_data)\n",
    "examples_rounds_iter = iter(examples_rounds)\n",
    "examples_categories_iter = iter(examples_categories)\n",
    "examples_values_iter = iter(examples_values)\n",
    "\n",
    "print(next(examples_rounds_iter))\n",
    "print(next(examples_categories_iter))\n",
    "print(next(examples_values_iter))"
   ]
  },
  {
   "cell_type": "code",
   "execution_count": 78,
   "metadata": {},
   "outputs": [],
   "source": [
    "from torchtext.data.utils import get_tokenizer\n",
    "from torchtext.vocab import build_vocab_from_iterator\n",
    "\n",
    "tokenizer = get_tokenizer('basic_english')\n",
    "\n",
    "def yield_tokens(train_iter):\n",
    "    for _, text in train_iter:\n",
    "        yield tokenizer(text)"
   ]
  },
  {
   "cell_type": "code",
   "execution_count": 56,
   "metadata": {},
   "outputs": [],
   "source": [
    "# Only inlcude words that occur at least 1000 times in the training data.\n",
    "# Also let \"<unk>\" represent unknown words, i.e., words not in the vocabulary.\n",
    "\n",
    "vocab = build_vocab_from_iterator(\n",
    "    yield_tokens(examples_categories_iter), specials=[\"<unk>\"], min_freq=1000)"
   ]
  },
  {
   "cell_type": "code",
   "execution_count": 57,
   "metadata": {},
   "outputs": [
    {
     "name": "stdout",
     "output_type": "stream",
     "text": [
      "Number of words in vocab: 253\n"
     ]
    }
   ],
   "source": [
    "# Task 1: Print the number of words in vocab.\n",
    "print(\"Number of words in vocab:\", len(vocab))\n",
    "\n",
    "# Task 4: Find out what index vocab has for the special unknown token \"<unk>\" and set it as the default index of vocab.\n",
    "unk_idx = vocab[\"<unk>\"]\n",
    "vocab.set_default_index(unk_idx)"
   ]
  },
  {
   "cell_type": "code",
   "execution_count": 81,
   "metadata": {},
   "outputs": [
    {
     "name": "stdout",
     "output_type": "stream",
     "text": [
      "(0, \"'No. 2: 1912 Olympian; football star at Carlisle Indian School; 6 MLB seasons with the Reds, Giants & Braves'\")\n",
      "[1, 83, 7, 47, 0, 0, 0, 174, 32, 0, 0, 218, 221, 0, 0, 18, 2, 0, 3, 0, 11, 0, 1]\n"
     ]
    }
   ],
   "source": [
    "# Print the indices corresponding to the text in example1\n",
    "example1 = next(examples_rounds_iter)\n",
    "print(example1)\n",
    "print([vocab[token] for token in tokenizer(example1[1])])"
   ]
  },
  {
   "cell_type": "code",
   "execution_count": 91,
   "metadata": {},
   "outputs": [
    {
     "name": "stdout",
     "output_type": "stream",
     "text": [
      "tensor([0, 1, 3, 2, 2]) tensor([[0., 0., 0.,  ..., 0., 0., 0.],\n",
      "        [0., 0., 0.,  ..., 0., 0., 0.],\n",
      "        [0., 0., 0.,  ..., 0., 0., 0.],\n",
      "        [0., 0., 0.,  ..., 0., 0., 0.],\n",
      "        [0., 0., 0.,  ..., 0., 0., 0.]])\n",
      "Test passed.\n"
     ]
    }
   ],
   "source": [
    "from torch.utils.data import DataLoader\n",
    "\n",
    "def collate_into_bow(batch):\n",
    "    labels = []\n",
    "    bow_vectors = []\n",
    "    for label, text in batch:\n",
    "        labels.append(label-1)\n",
    "        bow_vector = [0.0] * len(vocab)\n",
    "        tokens = tokenizer(text)\n",
    "        for t in tokens:\n",
    "            t_idx = vocab[t]\n",
    "            bow_vector[t_idx] += 1\n",
    "        bow_vector = [x / len(tokens) for x in bow_vector]\n",
    "        bow_vectors.append(bow_vector)\n",
    "    result = (torch.tensor(labels), torch.tensor(bow_vectors))\n",
    "\n",
    "    return result\n",
    "\n",
    "\n",
    "def test_collate():\n",
    "    w1 = vocab.lookup_token(3)\n",
    "    w2 = vocab.lookup_token(7)\n",
    "    w3 = vocab.lookup_token(8)\n",
    "    w4 = vocab.lookup_token(9)\n",
    "    examples = [\n",
    "        (1, \" \".join([w1, w2, w3, w4])),\n",
    "        (2, \" \".join([w2, w1, w3, w4])),\n",
    "        (4, \" \".join([w4, w2, w3, w4])),\n",
    "        (3, \" \".join([w2, w2, w2, w4])),\n",
    "        (3, \" \".join([w1, w2])),\n",
    "\n",
    "    ]\n",
    "    bowt = torch.tensor(\n",
    "        [\n",
    "            [0.0, 0.0, 0.0, 0.25, 0.0, 0.0, 0.0, 0.25, 0.25, 0.25],\n",
    "            [0.0, 0.0, 0.0, 0.25, 0.0, 0.0, 0.0, 0.25, 0.25, 0.25],\n",
    "            [0.0, 0.0, 0.0, 0.0, 0.0, 0.0, 0.0, 0.25, 0.25, 0.50],\n",
    "            [0.0, 0.0, 0.0, 0.0, 0.0, 0.0, 0.0, 0.75, 0.0, 0.25],\n",
    "            [0.0, 0.0, 0.0, 0.5, 0.0, 0.0, 0.0, 0.5, 0.0, 0.00],\n",
    "\n",
    "        ]) \n",
    "    lt, tt = collate_into_bow(examples)\n",
    "    assert lt.shape == torch.Size([5])\n",
    "    assert tt.shape == torch.Size([5, len(vocab)])\n",
    "    print(lt, tt)\n",
    "    assert torch.equal(lt, torch.tensor([0, 1, 3, 2, 2]))\n",
    "    assert torch.equal(tt[:,:10], bowt)\n",
    "    assert tt[:,10:].sum().item() == 0.00\n",
    "    print('Test passed.')\n",
    "    \n",
    "test_collate()"
   ]
  },
  {
   "attachments": {},
   "cell_type": "markdown",
   "metadata": {},
   "source": [
    "### BOW Classifier"
   ]
  },
  {
   "cell_type": "code",
   "execution_count": 92,
   "metadata": {},
   "outputs": [],
   "source": [
    "from torch import nn\n",
    "import torch.nn.functional as F\n",
    "\n",
    "class BoWClassifier(nn.Module):\n",
    "    def __init__(self, num_labels, vocab_size):\n",
    "        super(BoWClassifier, self).__init__()\n",
    "        self.linear = nn.Linear(vocab_size, num_labels)\n",
    "    \n",
    "    def forward(self, bow_vec):\n",
    "        return F.log_softmax(self.linear(bow_vec), dim=1)"
   ]
  },
  {
   "cell_type": "code",
   "execution_count": 93,
   "metadata": {},
   "outputs": [],
   "source": [
    "train_data = data[:train_size]\n",
    "examples_rounds, examples_categories, examples_values = create_label_text_pairs(train_data)\n",
    "examples_rounds_iter = iter(examples_rounds)\n",
    "examples_categories_iter = iter(examples_categories)\n",
    "examples_values_iter = iter(examples_values)\n",
    "\n",
    "train_data = examples_rounds_iter\n",
    "num_labels = len(set([label for (label, text) in train_data]))\n",
    "vocab_size = len(vocab)\n",
    "model = BoWClassifier(num_labels, vocab_size)"
   ]
  },
  {
   "attachments": {},
   "cell_type": "markdown",
   "metadata": {},
   "source": [
    "### Create function to train one epoch"
   ]
  },
  {
   "cell_type": "code",
   "execution_count": 98,
   "metadata": {},
   "outputs": [],
   "source": [
    "import time\n",
    "\n",
    "loss_function = torch.nn.NLLLoss()\n",
    "\n",
    "def train_an_epoch(dataloader, optimizer):\n",
    "    model.train() # Sets the module in training mode.\n",
    "    log_interval = 500\n",
    "\n",
    "    for idx, (label, text) in enumerate(dataloader):\n",
    "        # print(f\"label, text:\", label, text)\n",
    "        model.zero_grad()\n",
    "        log_probs = model(text) # forward pass\n",
    "        loss = loss_function(log_probs, label)\n",
    "        loss.backward()\n",
    "        optimizer.step()\n",
    "        if idx % log_interval == 0 and idx > 0:\n",
    "            print(f'At iteration {idx} the loss is {loss:.3f}.')"
   ]
  },
  {
   "attachments": {},
   "cell_type": "markdown",
   "metadata": {},
   "source": [
    "### Create function to compute accuracy"
   ]
  },
  {
   "cell_type": "code",
   "execution_count": 64,
   "metadata": {},
   "outputs": [],
   "source": [
    "def get_accuracy(dataloader):\n",
    "    model.eval() # switch to indicate that the model is not in training mode\n",
    "    with torch.no_grad(): # disables gradient calculation (for when you are sure you will not call Tensor.backward()). This will reduce memory consumption.\n",
    "        total_examples = 0\n",
    "        correct = 0\n",
    "        for labels, text in dataloader: # for each batch in dataloader\n",
    "            total_examples += text.shape[0]\n",
    "            probs = model(text)\n",
    "            preds = probs.argmax(1)\n",
    "            correct += (torch.eq(preds, labels)).sum().item()\n",
    "        overall_accuracy = correct / total_examples\n",
    "        return overall_accuracy\n",
    "\n",
    "# get_accuracy(valid_dataloader)"
   ]
  },
  {
   "cell_type": "code",
   "execution_count": 96,
   "metadata": {},
   "outputs": [],
   "source": [
    "from torch.utils.data.dataset import random_split\n",
    "\n",
    "BATCH_SIZE = 64 # batch size for training\n",
    "\n",
    "train_data = data[:train_size]\n",
    "examples_rounds, examples_categories, examples_values = create_label_text_pairs(train_data)\n",
    "examples_rounds_iter = iter(examples_rounds)\n",
    "examples_categories_iter = iter(examples_categories)\n",
    "examples_values_iter = iter(examples_values)\n",
    "\n",
    "train_valid_data = examples_rounds_iter\n",
    "train_valid_data = list(train_valid_data)\n",
    "num_train = int(len(train_valid_data) * 0.95)\n",
    "num_valid = len(train_valid_data) - num_train\n",
    "train_data, valid_data = random_split(\n",
    "    train_valid_data, [num_train, num_valid])\n",
    "\n",
    "train_dataloader = DataLoader(train_data, batch_size=BATCH_SIZE,\n",
    "                              shuffle=True, \n",
    "                              collate_fn=collate_into_bow)\n",
    "valid_dataloader = DataLoader(valid_data, batch_size=BATCH_SIZE,\n",
    "                              shuffle=False, \n",
    "                              collate_fn=collate_into_bow)\n",
    "test_dataloader = DataLoader(test_data, batch_size=BATCH_SIZE,\n",
    "                             shuffle=False, \n",
    "                             collate_fn=collate_into_bow)"
   ]
  },
  {
   "attachments": {},
   "cell_type": "markdown",
   "metadata": {},
   "source": [
    "### Training"
   ]
  },
  {
   "cell_type": "code",
   "execution_count": 99,
   "metadata": {},
   "outputs": [
    {
     "name": "stdout",
     "output_type": "stream",
     "text": [
      "At iteration 500 the loss is 0.807.\n",
      "At iteration 1000 the loss is 0.712.\n",
      "At iteration 1500 the loss is 0.711.\n",
      "At iteration 2000 the loss is 0.724.\n",
      "At iteration 2500 the loss is 0.769.\n",
      "At iteration 3000 the loss is 0.888.\n",
      "At iteration 3500 the loss is 0.769.\n",
      "At iteration 4000 the loss is 0.821.\n",
      "At iteration 4500 the loss is 0.827.\n",
      "At iteration 5000 the loss is 0.741.\n",
      "At iteration 5500 the loss is 0.928.\n",
      "At iteration 6000 the loss is 0.699.\n",
      "At iteration 6500 the loss is 0.774.\n",
      "At iteration 7000 the loss is 0.727.\n",
      "At iteration 7500 the loss is 0.801.\n",
      "\n",
      "After epoch 1 the validation accuracy is 0.494.\n",
      "\n",
      "At iteration 500 the loss is 0.768.\n",
      "At iteration 1000 the loss is 0.709.\n",
      "At iteration 1500 the loss is 0.772.\n",
      "At iteration 2000 the loss is 0.750.\n",
      "At iteration 2500 the loss is 0.741.\n",
      "At iteration 3000 the loss is 0.814.\n",
      "At iteration 3500 the loss is 0.745.\n",
      "At iteration 4000 the loss is 0.681.\n",
      "At iteration 4500 the loss is 0.738.\n",
      "At iteration 5000 the loss is 0.848.\n",
      "At iteration 5500 the loss is 0.742.\n",
      "At iteration 6000 the loss is 0.690.\n",
      "At iteration 6500 the loss is 0.810.\n",
      "At iteration 7000 the loss is 0.837.\n",
      "At iteration 7500 the loss is 0.788.\n",
      "\n",
      "After epoch 2 the validation accuracy is 0.525.\n",
      "\n",
      "At iteration 500 the loss is 0.881.\n",
      "At iteration 1000 the loss is 0.763.\n",
      "At iteration 1500 the loss is 0.778.\n",
      "At iteration 2000 the loss is 0.958.\n",
      "At iteration 2500 the loss is 0.758.\n",
      "At iteration 3000 the loss is 0.776.\n",
      "At iteration 3500 the loss is 0.726.\n",
      "At iteration 4000 the loss is 0.773.\n",
      "At iteration 4500 the loss is 0.737.\n",
      "At iteration 5000 the loss is 0.677.\n",
      "At iteration 5500 the loss is 0.761.\n",
      "At iteration 6000 the loss is 0.935.\n",
      "At iteration 6500 the loss is 0.718.\n",
      "At iteration 7000 the loss is 0.813.\n",
      "At iteration 7500 the loss is 0.698.\n",
      "\n",
      "After epoch 3 the validation accuracy is 0.535.\n",
      "\n",
      "At iteration 500 the loss is 0.750.\n",
      "At iteration 1000 the loss is 0.930.\n",
      "At iteration 1500 the loss is 0.789.\n",
      "At iteration 2000 the loss is 0.726.\n",
      "At iteration 2500 the loss is 0.825.\n",
      "At iteration 3000 the loss is 0.861.\n",
      "At iteration 3500 the loss is 0.776.\n",
      "At iteration 4000 the loss is 0.884.\n",
      "At iteration 4500 the loss is 0.849.\n",
      "At iteration 5000 the loss is 0.711.\n",
      "At iteration 5500 the loss is 1.006.\n",
      "At iteration 6000 the loss is 0.691.\n",
      "At iteration 6500 the loss is 0.828.\n",
      "At iteration 7000 the loss is 0.786.\n",
      "At iteration 7500 the loss is 0.731.\n",
      "\n",
      "After epoch 4 the validation accuracy is 0.490.\n",
      "\n",
      "At iteration 500 the loss is 0.766.\n",
      "At iteration 1000 the loss is 0.876.\n",
      "At iteration 1500 the loss is 0.705.\n",
      "At iteration 2000 the loss is 0.806.\n",
      "At iteration 2500 the loss is 0.835.\n",
      "At iteration 3000 the loss is 0.760.\n",
      "At iteration 3500 the loss is 0.707.\n",
      "At iteration 4000 the loss is 0.968.\n",
      "At iteration 4500 the loss is 0.828.\n",
      "At iteration 5000 the loss is 0.760.\n",
      "At iteration 5500 the loss is 0.765.\n",
      "At iteration 6000 the loss is 0.694.\n",
      "At iteration 6500 the loss is 0.740.\n",
      "At iteration 7000 the loss is 0.715.\n",
      "At iteration 7500 the loss is 0.708.\n",
      "\n",
      "After epoch 5 the validation accuracy is 0.493.\n",
      "\n",
      "At iteration 500 the loss is 0.865.\n",
      "At iteration 1000 the loss is 0.805.\n",
      "At iteration 1500 the loss is 0.784.\n",
      "At iteration 2000 the loss is 0.826.\n",
      "At iteration 2500 the loss is 0.839.\n",
      "At iteration 3000 the loss is 0.812.\n",
      "At iteration 3500 the loss is 0.780.\n",
      "At iteration 4000 the loss is 0.838.\n",
      "At iteration 4500 the loss is 0.788.\n",
      "At iteration 5000 the loss is 0.784.\n",
      "At iteration 5500 the loss is 0.751.\n",
      "At iteration 6000 the loss is 0.792.\n",
      "At iteration 6500 the loss is 0.734.\n",
      "At iteration 7000 the loss is 0.965.\n",
      "At iteration 7500 the loss is 0.766.\n",
      "\n",
      "After epoch 6 the validation accuracy is 0.542.\n",
      "\n",
      "At iteration 500 the loss is 0.691.\n",
      "At iteration 1000 the loss is 0.790.\n",
      "At iteration 1500 the loss is 0.793.\n",
      "At iteration 2000 the loss is 0.859.\n",
      "At iteration 2500 the loss is 0.900.\n",
      "At iteration 3000 the loss is 0.739.\n",
      "At iteration 3500 the loss is 0.717.\n",
      "At iteration 4000 the loss is 0.839.\n",
      "At iteration 4500 the loss is 0.809.\n",
      "At iteration 5000 the loss is 0.760.\n",
      "At iteration 5500 the loss is 0.794.\n",
      "At iteration 6000 the loss is 0.826.\n",
      "At iteration 6500 the loss is 0.725.\n",
      "At iteration 7000 the loss is 0.919.\n",
      "At iteration 7500 the loss is 0.742.\n",
      "\n",
      "After epoch 7 the validation accuracy is 0.490.\n",
      "\n",
      "At iteration 500 the loss is 0.760.\n",
      "At iteration 1000 the loss is 0.732.\n",
      "At iteration 1500 the loss is 0.805.\n",
      "At iteration 2000 the loss is 0.834.\n",
      "At iteration 2500 the loss is 0.736.\n",
      "At iteration 3000 the loss is 0.760.\n",
      "At iteration 3500 the loss is 0.808.\n",
      "At iteration 4000 the loss is 0.789.\n",
      "At iteration 4500 the loss is 0.741.\n",
      "At iteration 5000 the loss is 0.718.\n",
      "At iteration 5500 the loss is 0.828.\n",
      "At iteration 6000 the loss is 0.807.\n",
      "At iteration 6500 the loss is 0.901.\n",
      "At iteration 7000 the loss is 0.841.\n",
      "At iteration 7500 the loss is 0.749.\n",
      "\n",
      "After epoch 8 the validation accuracy is 0.490.\n",
      "\n",
      "At iteration 500 the loss is 0.759.\n",
      "At iteration 1000 the loss is 0.977.\n",
      "At iteration 1500 the loss is 0.706.\n",
      "At iteration 2000 the loss is 0.836.\n",
      "At iteration 2500 the loss is 0.700.\n",
      "At iteration 3000 the loss is 0.717.\n",
      "At iteration 3500 the loss is 0.723.\n",
      "At iteration 4000 the loss is 0.777.\n",
      "At iteration 4500 the loss is 0.681.\n",
      "At iteration 5000 the loss is 0.827.\n",
      "At iteration 5500 the loss is 0.753.\n",
      "At iteration 6000 the loss is 0.756.\n",
      "At iteration 6500 the loss is 0.849.\n",
      "At iteration 7000 the loss is 0.733.\n",
      "At iteration 7500 the loss is 0.686.\n",
      "\n",
      "After epoch 9 the validation accuracy is 0.496.\n",
      "\n",
      "At iteration 500 the loss is 0.734.\n",
      "At iteration 1000 the loss is 0.854.\n",
      "At iteration 1500 the loss is 0.734.\n",
      "At iteration 2000 the loss is 0.766.\n",
      "At iteration 2500 the loss is 0.716.\n",
      "At iteration 3000 the loss is 0.830.\n",
      "At iteration 3500 the loss is 0.842.\n",
      "At iteration 4000 the loss is 0.736.\n",
      "At iteration 4500 the loss is 0.722.\n",
      "At iteration 5000 the loss is 0.756.\n",
      "At iteration 5500 the loss is 0.790.\n",
      "At iteration 6000 the loss is 0.713.\n",
      "At iteration 6500 the loss is 0.783.\n",
      "At iteration 7000 the loss is 0.747.\n",
      "At iteration 7500 the loss is 0.803.\n",
      "\n",
      "After epoch 10 the validation accuracy is 0.493.\n",
      "\n"
     ]
    },
    {
     "data": {
      "text/plain": [
       "[<matplotlib.lines.Line2D at 0x1fa01961f90>]"
      ]
     },
     "execution_count": 99,
     "metadata": {},
     "output_type": "execute_result"
    },
    {
     "data": {
      "image/png": "[encoded data removed]",
      "text/plain": [
       "<Figure size 640x480 with 1 Axes>"
      ]
     },
     "metadata": {},
     "output_type": "display_data"
    }
   ],
   "source": [
    "import matplotlib.pyplot as plt\n",
    "%matplotlib inline\n",
    "\n",
    "EPOCHS = 10 # epoch\n",
    "optimizer = torch.optim.SGD(model.parameters(), lr=3)\n",
    "\n",
    "accuracies=[]\n",
    "for epoch in range(1, EPOCHS + 1):\n",
    "    epoch_start_time = time.time()\n",
    "    train_an_epoch(train_dataloader, optimizer)\n",
    "    accuracy = get_accuracy(valid_dataloader)\n",
    "    accuracies.append(accuracy)\n",
    "    time_taken = time.time() - epoch_start_time\n",
    "    print()\n",
    "    print(f'After epoch {epoch} the validation accuracy is {accuracy:.3f}.')\n",
    "    print()\n",
    "    \n",
    "plt.plot(range(1, EPOCHS+1), accuracies)"
   ]
  },
  {
   "attachments": {},
   "cell_type": "markdown",
   "metadata": {},
   "source": [
    "### Create custom dataset [WORK IN PROGRESS]"
   ]
  },
  {
   "cell_type": "code",
   "execution_count": 10,
   "metadata": {},
   "outputs": [],
   "source": [
    "from torchtext.data.utils import get_tokenizer\n",
    "from torchtext.vocab import build_vocab_from_iterator\n",
    "\n",
    "def get_data(fn: str):\n",
    "    '''\n",
    "    fn: filename of json file to read\n",
    "    Returns:\n",
    "        list of dictionaries\n",
    "    '''\n",
    "    with open(fn, 'r') as f:\n",
    "        data = json.load(f)\n",
    "        return data\n",
    "    \n",
    "class JeopardyDataset(Dataset):\n",
    "    def __init__(self, filename, max_vocab_size: int, seq_len: int,\n",
    "                 vocabulary = None):\n",
    "        '''\n",
    "        text: text to stream\n",
    "        max_vocab_size: max size of vocabulary of the text\n",
    "        seq_len: sequence length to stream\n",
    "        '''\n",
    "        self.data = get_data(filename)\n",
    "        if not vocabulary:\n",
    "            # CHECK THIS\n",
    "            self.vocab = build_vocab_from_iterator(\n",
    "                map(get_tokenizer('basic_english'), data),\n",
    "                specials=['<unk>'],\n",
    "                max_tokens = max_vocab_size)\n",
    "            self.vocab.set_default_index(self.vocab['<unk>'])\n",
    "        else:\n",
    "            self.vocab = vocabulary\n",
    "        self.seq_len = seq_len\n",
    "\n",
    "    @property\n",
    "    def vocab_size(self):\n",
    "        # add one more for out of vocab words\n",
    "        return len(self.vocab) + 1\n",
    "    \n",
    "    def get_vocab(self):\n",
    "        return self.vocab\n",
    "\n",
    "    def __len__(self):\n",
    "        return (len(self.data) - 1)\n",
    "\n",
    "    def __getitem__(self, idx):\n",
    "        if torch.is_tensor(idx):\n",
    "            idx = idx.tolist()\n",
    "        \n",
    "        j = idx * self.seq_len\n",
    "        src = self.text[j: j+self.seq_len]\n",
    "        tgt = self.text[j+1: j+1+self.seq_len]\n",
    "        tgt_idx = self.vocab.lookup_indices(tgt)\n",
    "        src_idx = self.vocab.lookup_indices(src)\n",
    "        return (torch.LongTensor(src_idx), torch.LongTensor(tgt_idx))   "
   ]
  },
  {
   "cell_type": "code",
   "execution_count": null,
   "metadata": {},
   "outputs": [],
   "source": [
    "def pp(vocab, indices):\n",
    "    '''\n",
    "    vocab: `torchtext.vocab.vocab`\n",
    "    indices: word indices to map back to words\n",
    "    '''\n",
    "    return vocab.lookup_tokens(indices)\n",
    "\n",
    "MAX_VOCAB_SIZE = 50000\n",
    "BPTT_LENGTH = 32\n",
    "filename = 'jeopardy_json.json'\n",
    "train_dataset = JeopardyDataset(filename, MAX_VOCAB_SIZE, BPTT_LENGTH, vocab=)\n",
    "train_vocab = train_dataset.get_vocab()\n",
    "train_iter = iter(train_dataset)\n",
    "\n",
    "\n",
    "tokenizer = get_tokenizer('basic_english')\n",
    "\n",
    "def yield_tokens(train_iter):\n",
    "    for _, text in train_iter:\n",
    "        yield tokenizer(text)"
   ]
  }
 ],
 "metadata": {
  "kernelspec": {
   "display_name": "capp30255",
   "language": "python",
   "name": "python3"
  },
  "language_info": {
   "codemirror_mode": {
    "name": "ipython",
    "version": 3
   },
   "file_extension": ".py",
   "mimetype": "text/x-python",
   "name": "python",
   "nbconvert_exporter": "python",
   "pygments_lexer": "ipython3",
   "version": "3.10.10"
  },
  "orig_nbformat": 4
 },
 "nbformat": 4,
 "nbformat_minor": 2
}
