{
 "cells": [
  {
   "cell_type": "code",
   "execution_count": 46,
   "metadata": {},
   "outputs": [],
   "source": [
    "import json\n",
    "filename = 'train-v2.0.json'\n",
    "\n",
    "with open(filename, 'r', encoding='iso-8859-1') as f:\n",
    "    file_contents = json.load(f)\n",
    "\n",
    "# file_contents['data'][0]['paragraphs']"
   ]
  },
  {
   "cell_type": "code",
   "execution_count": 47,
   "metadata": {},
   "outputs": [],
   "source": [
    "data = file_contents['data']\n",
    "questions = []\n",
    "answers = []\n",
    "titles = []\n",
    "contexts = []\n",
    "for row in data:\n",
    "    # print(qas)\n",
    "    titles.append(row['title'])\n",
    "    for qas in row['paragraphs']:\n",
    "        for qn in qas['qas']:\n",
    "            # print(qn)\n",
    "            questions.append(qn['question'])\n",
    "            for answer in qn['answers']:\n",
    "                answers.append(answer['text'])\n",
    "        contexts.append(qas['context'])\n",
    "\n",
    "# questions\n",
    "# answers\n",
    "# contexts"
   ]
  },
  {
   "cell_type": "code",
   "execution_count": 48,
   "metadata": {},
   "outputs": [
    {
     "data": {
      "text/plain": [
       "11"
      ]
     },
     "execution_count": 48,
     "metadata": {},
     "output_type": "execute_result"
    }
   ],
   "source": [
    "from torchtext.data.utils import get_tokenizer\n",
    "\n",
    "tokenizer = get_tokenizer('basic_english')\n",
    "\n",
    "total_length = 0\n",
    "for qn in questions:\n",
    "    tokens = tokenizer(qn)\n",
    "    total_length += len(tokens)\n",
    "\n",
    "avg_length_questions = total_length // len(questions)\n",
    "avg_length_questions"
   ]
  },
  {
   "cell_type": "code",
   "execution_count": 49,
   "metadata": {},
   "outputs": [
    {
     "data": {
      "text/plain": [
       "3"
      ]
     },
     "execution_count": 49,
     "metadata": {},
     "output_type": "execute_result"
    }
   ],
   "source": [
    "from torchtext.data.utils import get_tokenizer\n",
    "\n",
    "tokenizer = get_tokenizer('basic_english')\n",
    "\n",
    "total_length = 0\n",
    "for answer in answers:\n",
    "    tokens = tokenizer(answer)\n",
    "    total_length += len(tokens)\n",
    "\n",
    "avg_length_answers = total_length // len(answers)\n",
    "avg_length_answers"
   ]
  },
  {
   "cell_type": "code",
   "execution_count": 50,
   "metadata": {},
   "outputs": [
    {
     "data": {
      "text/plain": [
       "134"
      ]
     },
     "execution_count": 50,
     "metadata": {},
     "output_type": "execute_result"
    }
   ],
   "source": [
    "from torchtext.data.utils import get_tokenizer\n",
    "\n",
    "tokenizer = get_tokenizer('basic_english')\n",
    "\n",
    "total_length = 0\n",
    "for c in contexts:\n",
    "    tokens = tokenizer(c)\n",
    "    total_length += len(tokens)\n",
    "\n",
    "avg_length_contexts = total_length // len(contexts)\n",
    "avg_length_contexts"
   ]
  }
 ],
 "metadata": {
  "kernelspec": {
   "display_name": "capp30255",
   "language": "python",
   "name": "python3"
  },
  "language_info": {
   "codemirror_mode": {
    "name": "ipython",
    "version": 3
   },
   "file_extension": ".py",
   "mimetype": "text/x-python",
   "name": "python",
   "nbconvert_exporter": "python",
   "pygments_lexer": "ipython3",
   "version": "3.10.10"
  },
  "orig_nbformat": 4
 },
 "nbformat": 4,
 "nbformat_minor": 2
}
