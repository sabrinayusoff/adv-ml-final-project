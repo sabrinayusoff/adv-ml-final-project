{
 "cells": [
  {
   "attachments": {},
   "cell_type": "markdown",
   "metadata": {},
   "source": [
    "# SMS Corpus Preprocessing\n",
    "\n",
    "Download and clean dataset. Optional as the cleaned dataset is already provided in corpus folder."
   ]
  },
  {
   "cell_type": "code",
   "execution_count": 1,
   "metadata": {},
   "outputs": [],
   "source": [
    "import json\n",
    "import pandas as pd"
   ]
  },
  {
   "cell_type": "code",
   "execution_count": 9,
   "metadata": {},
   "outputs": [
    {
     "name": "stdout",
     "output_type": "stream",
     "text": [
      "@date\n",
      "@version\n",
      "message\n"
     ]
    }
   ],
   "source": [
    "with open(\"../data/smsCorpus_en_2015.03.09_all.json\") as f:\n",
    "    sms = json.loads(f.read())\n",
    "\n",
    "for key, value in sms[\"smsCorpus\"].items() :\n",
    "    print(key)"
   ]
  },
  {
   "cell_type": "code",
   "execution_count": 3,
   "metadata": {},
   "outputs": [],
   "source": [
    "sms_df = pd.DataFrame(sms[\"smsCorpus\"][\"message\"])"
   ]
  },
  {
   "cell_type": "code",
   "execution_count": 10,
   "metadata": {},
   "outputs": [
    {
     "data": {
      "text/html": [
       "<div>\n",
       "<style scoped>\n",
       "    .dataframe tbody tr th:only-of-type {\n",
       "        vertical-align: middle;\n",
       "    }\n",
       "\n",
       "    .dataframe tbody tr th {\n",
       "        vertical-align: top;\n",
       "    }\n",
       "\n",
       "    .dataframe thead th {\n",
       "        text-align: right;\n",
       "    }\n",
       "</style>\n",
       "<table border=\"1\" class=\"dataframe\">\n",
       "  <thead>\n",
       "    <tr style=\"text-align: right;\">\n",
       "      <th></th>\n",
       "      <th>@id</th>\n",
       "      <th>text</th>\n",
       "      <th>source</th>\n",
       "      <th>destination</th>\n",
       "      <th>messageProfile</th>\n",
       "      <th>collectionMethod</th>\n",
       "    </tr>\n",
       "  </thead>\n",
       "  <tbody>\n",
       "    <tr>\n",
       "      <th>0</th>\n",
       "      <td>10120</td>\n",
       "      <td>{'$': 'Bugis oso near wat...'}</td>\n",
       "      <td>{'srcNumber': {'$': 51}, 'phoneModel': {'@manu...</td>\n",
       "      <td>{'@country': 'unknown', 'destNumber': {'$': 'u...</td>\n",
       "      <td>{'@language': 'en', '@time': 'unknown', '@type...</td>\n",
       "      <td>{'@collector': 'howyijue', '@method': 'unknown...</td>\n",
       "    </tr>\n",
       "    <tr>\n",
       "      <th>1</th>\n",
       "      <td>10121</td>\n",
       "      <td>{'$': 'Go until jurong point, crazy.. Availabl...</td>\n",
       "      <td>{'srcNumber': {'$': 51}, 'phoneModel': {'@manu...</td>\n",
       "      <td>{'@country': 'unknown', 'destNumber': {'$': 'u...</td>\n",
       "      <td>{'@language': 'en', '@time': 'unknown', '@type...</td>\n",
       "      <td>{'@collector': 'howyijue', '@method': 'unknown...</td>\n",
       "    </tr>\n",
       "    <tr>\n",
       "      <th>2</th>\n",
       "      <td>10122</td>\n",
       "      <td>{'$': 'I dunno until when... Lets go learn pil...</td>\n",
       "      <td>{'srcNumber': {'$': 51}, 'phoneModel': {'@manu...</td>\n",
       "      <td>{'@country': 'unknown', 'destNumber': {'$': 'u...</td>\n",
       "      <td>{'@language': 'en', '@time': 'unknown', '@type...</td>\n",
       "      <td>{'@collector': 'howyijue', '@method': 'unknown...</td>\n",
       "    </tr>\n",
       "    <tr>\n",
       "      <th>3</th>\n",
       "      <td>10123</td>\n",
       "      <td>{'$': 'Den only weekdays got special price... ...</td>\n",
       "      <td>{'srcNumber': {'$': 51}, 'phoneModel': {'@manu...</td>\n",
       "      <td>{'@country': 'unknown', 'destNumber': {'$': 'u...</td>\n",
       "      <td>{'@language': 'en', '@time': 'unknown', '@type...</td>\n",
       "      <td>{'@collector': 'howyijue', '@method': 'unknown...</td>\n",
       "    </tr>\n",
       "    <tr>\n",
       "      <th>4</th>\n",
       "      <td>10124</td>\n",
       "      <td>{'$': 'Meet after lunch la...'}</td>\n",
       "      <td>{'srcNumber': {'$': 51}, 'phoneModel': {'@manu...</td>\n",
       "      <td>{'@country': 'unknown', 'destNumber': {'$': 'u...</td>\n",
       "      <td>{'@language': 'en', '@time': 'unknown', '@type...</td>\n",
       "      <td>{'@collector': 'howyijue', '@method': 'unknown...</td>\n",
       "    </tr>\n",
       "  </tbody>\n",
       "</table>\n",
       "</div>"
      ],
      "text/plain": [
       "     @id                                               text  \\\n",
       "0  10120                     {'$': 'Bugis oso near wat...'}   \n",
       "1  10121  {'$': 'Go until jurong point, crazy.. Availabl...   \n",
       "2  10122  {'$': 'I dunno until when... Lets go learn pil...   \n",
       "3  10123  {'$': 'Den only weekdays got special price... ...   \n",
       "4  10124                    {'$': 'Meet after lunch la...'}   \n",
       "\n",
       "                                              source  \\\n",
       "0  {'srcNumber': {'$': 51}, 'phoneModel': {'@manu...   \n",
       "1  {'srcNumber': {'$': 51}, 'phoneModel': {'@manu...   \n",
       "2  {'srcNumber': {'$': 51}, 'phoneModel': {'@manu...   \n",
       "3  {'srcNumber': {'$': 51}, 'phoneModel': {'@manu...   \n",
       "4  {'srcNumber': {'$': 51}, 'phoneModel': {'@manu...   \n",
       "\n",
       "                                         destination  \\\n",
       "0  {'@country': 'unknown', 'destNumber': {'$': 'u...   \n",
       "1  {'@country': 'unknown', 'destNumber': {'$': 'u...   \n",
       "2  {'@country': 'unknown', 'destNumber': {'$': 'u...   \n",
       "3  {'@country': 'unknown', 'destNumber': {'$': 'u...   \n",
       "4  {'@country': 'unknown', 'destNumber': {'$': 'u...   \n",
       "\n",
       "                                      messageProfile  \\\n",
       "0  {'@language': 'en', '@time': 'unknown', '@type...   \n",
       "1  {'@language': 'en', '@time': 'unknown', '@type...   \n",
       "2  {'@language': 'en', '@time': 'unknown', '@type...   \n",
       "3  {'@language': 'en', '@time': 'unknown', '@type...   \n",
       "4  {'@language': 'en', '@time': 'unknown', '@type...   \n",
       "\n",
       "                                    collectionMethod  \n",
       "0  {'@collector': 'howyijue', '@method': 'unknown...  \n",
       "1  {'@collector': 'howyijue', '@method': 'unknown...  \n",
       "2  {'@collector': 'howyijue', '@method': 'unknown...  \n",
       "3  {'@collector': 'howyijue', '@method': 'unknown...  \n",
       "4  {'@collector': 'howyijue', '@method': 'unknown...  "
      ]
     },
     "execution_count": 10,
     "metadata": {},
     "output_type": "execute_result"
    }
   ],
   "source": [
    "sms_df.shape\n",
    "sms_df.head()"
   ]
  },
  {
   "cell_type": "code",
   "execution_count": 11,
   "metadata": {},
   "outputs": [],
   "source": [
    "sms_df[\"user_id\"] = sms_df.source.apply(lambda s: s[\"srcNumber\"][\"$\"])"
   ]
  },
  {
   "cell_type": "code",
   "execution_count": 12,
   "metadata": {},
   "outputs": [
    {
     "data": {
      "text/plain": [
       "23249055a638bbc9b1fc5eb7dac9b4259524183451bc74bc                    4951\n",
       "0                                                                   4754\n",
       "975bd06869dccbc3b74b999a840f68a537795b6c8b833dfe                    3976\n",
       "c3e3c793bbdb71d520fa190b5c23b4cf796b52d96b40d9d938cc3db68eb0e909    3383\n",
       "df501e0b21bc88cc1e464dd95bf722da8865851c93267498                    2621\n",
       "                                                                    ... \n",
       "28                                                                     1\n",
       "e26a68d382a1a95820819bfdb0836c49                                       1\n",
       "22                                                                     1\n",
       "98                                                                     1\n",
       "50                                                                     1\n",
       "Name: user_id, Length: 343, dtype: int64"
      ]
     },
     "execution_count": 12,
     "metadata": {},
     "output_type": "execute_result"
    }
   ],
   "source": [
    "sms_df.user_id.value_counts()"
   ]
  },
  {
   "cell_type": "code",
   "execution_count": 13,
   "metadata": {},
   "outputs": [],
   "source": [
    "sms_df[\"text\"] = sms_df.text.apply(lambda s: s[\"$\"])"
   ]
  },
  {
   "cell_type": "code",
   "execution_count": 14,
   "metadata": {},
   "outputs": [],
   "source": [
    "# drop duplicated text\n",
    "sms_df.drop_duplicates(subset=[\"text\"], inplace=True)"
   ]
  },
  {
   "cell_type": "code",
   "execution_count": 15,
   "metadata": {},
   "outputs": [],
   "source": [
    "# filter users with at least 10 smses\n",
    "sms_df = sms_df.groupby(\"user_id\").filter(lambda x: len(x) >= 10)"
   ]
  },
  {
   "cell_type": "code",
   "execution_count": 16,
   "metadata": {},
   "outputs": [
    {
     "data": {
      "text/plain": [
       "(48092, 7)"
      ]
     },
     "execution_count": 16,
     "metadata": {},
     "output_type": "execute_result"
    }
   ],
   "source": [
    "sms_df.shape"
   ]
  },
  {
   "cell_type": "code",
   "execution_count": 17,
   "metadata": {},
   "outputs": [],
   "source": [
    "# remap user id from 0 to N\n",
    "user_id_remap = {value:ix for ix, value in enumerate(sms_df.user_id.unique())}"
   ]
  },
  {
   "cell_type": "code",
   "execution_count": 18,
   "metadata": {},
   "outputs": [],
   "source": [
    "sms_df.user_id.replace(user_id_remap, inplace=True)"
   ]
  },
  {
   "cell_type": "code",
   "execution_count": 19,
   "metadata": {},
   "outputs": [
    {
     "data": {
      "text/plain": [
       "199"
      ]
     },
     "execution_count": 19,
     "metadata": {},
     "output_type": "execute_result"
    }
   ],
   "source": [
    "sms_df.user_id.nunique()"
   ]
  },
  {
   "cell_type": "code",
   "execution_count": 21,
   "metadata": {},
   "outputs": [
    {
     "data": {
      "text/html": [
       "<div>\n",
       "<style scoped>\n",
       "    .dataframe tbody tr th:only-of-type {\n",
       "        vertical-align: middle;\n",
       "    }\n",
       "\n",
       "    .dataframe tbody tr th {\n",
       "        vertical-align: top;\n",
       "    }\n",
       "\n",
       "    .dataframe thead th {\n",
       "        text-align: right;\n",
       "    }\n",
       "</style>\n",
       "<table border=\"1\" class=\"dataframe\">\n",
       "  <thead>\n",
       "    <tr style=\"text-align: right;\">\n",
       "      <th></th>\n",
       "      <th>@id</th>\n",
       "      <th>text</th>\n",
       "      <th>source</th>\n",
       "      <th>destination</th>\n",
       "      <th>messageProfile</th>\n",
       "      <th>collectionMethod</th>\n",
       "      <th>user_id</th>\n",
       "    </tr>\n",
       "  </thead>\n",
       "  <tbody>\n",
       "    <tr>\n",
       "      <th>0</th>\n",
       "      <td>10120</td>\n",
       "      <td>Bugis oso near wat...</td>\n",
       "      <td>{'srcNumber': {'$': 51}, 'phoneModel': {'@manu...</td>\n",
       "      <td>{'@country': 'unknown', 'destNumber': {'$': 'u...</td>\n",
       "      <td>{'@language': 'en', '@time': 'unknown', '@type...</td>\n",
       "      <td>{'@collector': 'howyijue', '@method': 'unknown...</td>\n",
       "      <td>0</td>\n",
       "    </tr>\n",
       "    <tr>\n",
       "      <th>1</th>\n",
       "      <td>10121</td>\n",
       "      <td>Go until jurong point, crazy.. Available only ...</td>\n",
       "      <td>{'srcNumber': {'$': 51}, 'phoneModel': {'@manu...</td>\n",
       "      <td>{'@country': 'unknown', 'destNumber': {'$': 'u...</td>\n",
       "      <td>{'@language': 'en', '@time': 'unknown', '@type...</td>\n",
       "      <td>{'@collector': 'howyijue', '@method': 'unknown...</td>\n",
       "      <td>0</td>\n",
       "    </tr>\n",
       "    <tr>\n",
       "      <th>2</th>\n",
       "      <td>10122</td>\n",
       "      <td>I dunno until when... Lets go learn pilates...</td>\n",
       "      <td>{'srcNumber': {'$': 51}, 'phoneModel': {'@manu...</td>\n",
       "      <td>{'@country': 'unknown', 'destNumber': {'$': 'u...</td>\n",
       "      <td>{'@language': 'en', '@time': 'unknown', '@type...</td>\n",
       "      <td>{'@collector': 'howyijue', '@method': 'unknown...</td>\n",
       "      <td>0</td>\n",
       "    </tr>\n",
       "    <tr>\n",
       "      <th>3</th>\n",
       "      <td>10123</td>\n",
       "      <td>Den only weekdays got special price... Haiz......</td>\n",
       "      <td>{'srcNumber': {'$': 51}, 'phoneModel': {'@manu...</td>\n",
       "      <td>{'@country': 'unknown', 'destNumber': {'$': 'u...</td>\n",
       "      <td>{'@language': 'en', '@time': 'unknown', '@type...</td>\n",
       "      <td>{'@collector': 'howyijue', '@method': 'unknown...</td>\n",
       "      <td>0</td>\n",
       "    </tr>\n",
       "    <tr>\n",
       "      <th>4</th>\n",
       "      <td>10124</td>\n",
       "      <td>Meet after lunch la...</td>\n",
       "      <td>{'srcNumber': {'$': 51}, 'phoneModel': {'@manu...</td>\n",
       "      <td>{'@country': 'unknown', 'destNumber': {'$': 'u...</td>\n",
       "      <td>{'@language': 'en', '@time': 'unknown', '@type...</td>\n",
       "      <td>{'@collector': 'howyijue', '@method': 'unknown...</td>\n",
       "      <td>0</td>\n",
       "    </tr>\n",
       "  </tbody>\n",
       "</table>\n",
       "</div>"
      ],
      "text/plain": [
       "     @id                                               text  \\\n",
       "0  10120                              Bugis oso near wat...   \n",
       "1  10121  Go until jurong point, crazy.. Available only ...   \n",
       "2  10122     I dunno until when... Lets go learn pilates...   \n",
       "3  10123  Den only weekdays got special price... Haiz......   \n",
       "4  10124                             Meet after lunch la...   \n",
       "\n",
       "                                              source  \\\n",
       "0  {'srcNumber': {'$': 51}, 'phoneModel': {'@manu...   \n",
       "1  {'srcNumber': {'$': 51}, 'phoneModel': {'@manu...   \n",
       "2  {'srcNumber': {'$': 51}, 'phoneModel': {'@manu...   \n",
       "3  {'srcNumber': {'$': 51}, 'phoneModel': {'@manu...   \n",
       "4  {'srcNumber': {'$': 51}, 'phoneModel': {'@manu...   \n",
       "\n",
       "                                         destination  \\\n",
       "0  {'@country': 'unknown', 'destNumber': {'$': 'u...   \n",
       "1  {'@country': 'unknown', 'destNumber': {'$': 'u...   \n",
       "2  {'@country': 'unknown', 'destNumber': {'$': 'u...   \n",
       "3  {'@country': 'unknown', 'destNumber': {'$': 'u...   \n",
       "4  {'@country': 'unknown', 'destNumber': {'$': 'u...   \n",
       "\n",
       "                                      messageProfile  \\\n",
       "0  {'@language': 'en', '@time': 'unknown', '@type...   \n",
       "1  {'@language': 'en', '@time': 'unknown', '@type...   \n",
       "2  {'@language': 'en', '@time': 'unknown', '@type...   \n",
       "3  {'@language': 'en', '@time': 'unknown', '@type...   \n",
       "4  {'@language': 'en', '@time': 'unknown', '@type...   \n",
       "\n",
       "                                    collectionMethod  user_id  \n",
       "0  {'@collector': 'howyijue', '@method': 'unknown...        0  \n",
       "1  {'@collector': 'howyijue', '@method': 'unknown...        0  \n",
       "2  {'@collector': 'howyijue', '@method': 'unknown...        0  \n",
       "3  {'@collector': 'howyijue', '@method': 'unknown...        0  \n",
       "4  {'@collector': 'howyijue', '@method': 'unknown...        0  "
      ]
     },
     "execution_count": 21,
     "metadata": {},
     "output_type": "execute_result"
    }
   ],
   "source": [
    "sms_df.shape\n",
    "sms_df.head()"
   ]
  },
  {
   "cell_type": "code",
   "execution_count": 22,
   "metadata": {},
   "outputs": [],
   "source": [
    "# parallelize this?\n",
    "for i in sms_df.index:\n",
    "    sms_df.loc[i].to_json(\"/Users/pscollins/MACS_30123/final-project-sabrina-phoebe/data/json_files/row{}.json\".format(i))"
   ]
  },
  {
   "cell_type": "code",
   "execution_count": 16,
   "metadata": {},
   "outputs": [],
   "source": [
    "sms_df[[\"user_id\", \"text\"]].to_csv(\"../data/sg_sms_corpus_en.csv\", index=False)"
   ]
  }
 ],
 "metadata": {
  "kernelspec": {
   "display_name": "base",
   "language": "python",
   "name": "python3"
  },
  "language_info": {
   "codemirror_mode": {
    "name": "ipython",
    "version": 3
   },
   "file_extension": ".py",
   "mimetype": "text/x-python",
   "name": "python",
   "nbconvert_exporter": "python",
   "pygments_lexer": "ipython3",
   "version": "3.7.12"
  },
  "toc": {
   "base_numbering": 1,
   "nav_menu": {},
   "number_sections": true,
   "sideBar": true,
   "skip_h1_title": false,
   "title_cell": "Table of Contents",
   "title_sidebar": "Contents",
   "toc_cell": false,
   "toc_position": {},
   "toc_section_display": true,
   "toc_window_display": false
  },
  "varInspector": {
   "cols": {
    "lenName": 16,
    "lenType": 16,
    "lenVar": 40
   },
   "kernels_config": {
    "python": {
     "delete_cmd_postfix": "",
     "delete_cmd_prefix": "del ",
     "library": "var_list.py",
     "varRefreshCmd": "print(var_dic_list())"
    },
    "r": {
     "delete_cmd_postfix": ") ",
     "delete_cmd_prefix": "rm(",
     "library": "var_list.r",
     "varRefreshCmd": "cat(var_dic_list()) "
    }
   },
   "types_to_exclude": [
    "module",
    "function",
    "builtin_function_or_method",
    "instance",
    "_Feature"
   ],
   "window_display": false
  }
 },
 "nbformat": 4,
 "nbformat_minor": 4
}
